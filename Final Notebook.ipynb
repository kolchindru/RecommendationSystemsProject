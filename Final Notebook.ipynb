{
  "nbformat": 4,
  "nbformat_minor": 0,
  "metadata": {
    "colab": {
      "name": "Project.ipynb",
      "provenance": [],
      "collapsed_sections": [],
      "toc_visible": true
    },
    "kernelspec": {
      "name": "python3",
      "display_name": "Python 3"
    },
    "widgets": {
      "application/vnd.jupyter.widget-state+json": {
        "466918dc4e294adaa6599be18ce24321": {
          "model_module": "@jupyter-widgets/controls",
          "model_name": "HBoxModel",
          "state": {
            "_view_name": "HBoxView",
            "_dom_classes": [],
            "_model_name": "HBoxModel",
            "_view_module": "@jupyter-widgets/controls",
            "_model_module_version": "1.5.0",
            "_view_count": null,
            "_view_module_version": "1.5.0",
            "box_style": "",
            "layout": "IPY_MODEL_d361f85bad304ee3a27c731b217b9898",
            "_model_module": "@jupyter-widgets/controls",
            "children": [
              "IPY_MODEL_d0eac6e331b4418a84fea44ead918215",
              "IPY_MODEL_64c0938d9b4148818bdb6e38cc81c2d8"
            ]
          }
        },
        "d361f85bad304ee3a27c731b217b9898": {
          "model_module": "@jupyter-widgets/base",
          "model_name": "LayoutModel",
          "state": {
            "_view_name": "LayoutView",
            "grid_template_rows": null,
            "right": null,
            "justify_content": null,
            "_view_module": "@jupyter-widgets/base",
            "overflow": null,
            "_model_module_version": "1.2.0",
            "_view_count": null,
            "flex_flow": null,
            "width": null,
            "min_width": null,
            "border": null,
            "align_items": null,
            "bottom": null,
            "_model_module": "@jupyter-widgets/base",
            "top": null,
            "grid_column": null,
            "overflow_y": null,
            "overflow_x": null,
            "grid_auto_flow": null,
            "grid_area": null,
            "grid_template_columns": null,
            "flex": null,
            "_model_name": "LayoutModel",
            "justify_items": null,
            "grid_row": null,
            "max_height": null,
            "align_content": null,
            "visibility": null,
            "align_self": null,
            "height": null,
            "min_height": null,
            "padding": null,
            "grid_auto_rows": null,
            "grid_gap": null,
            "max_width": null,
            "order": null,
            "_view_module_version": "1.2.0",
            "grid_template_areas": null,
            "object_position": null,
            "object_fit": null,
            "grid_auto_columns": null,
            "margin": null,
            "display": null,
            "left": null
          }
        },
        "d0eac6e331b4418a84fea44ead918215": {
          "model_module": "@jupyter-widgets/controls",
          "model_name": "FloatProgressModel",
          "state": {
            "_view_name": "ProgressView",
            "style": "IPY_MODEL_a6a157fb46d7433bbad48984068c1438",
            "_dom_classes": [],
            "description": "100%",
            "_model_name": "FloatProgressModel",
            "bar_style": "success",
            "max": 6040,
            "_view_module": "@jupyter-widgets/controls",
            "_model_module_version": "1.5.0",
            "value": 6040,
            "_view_count": null,
            "_view_module_version": "1.5.0",
            "orientation": "horizontal",
            "min": 0,
            "description_tooltip": null,
            "_model_module": "@jupyter-widgets/controls",
            "layout": "IPY_MODEL_2629d9ed56ff4f9fb762be85813d908d"
          }
        },
        "64c0938d9b4148818bdb6e38cc81c2d8": {
          "model_module": "@jupyter-widgets/controls",
          "model_name": "HTMLModel",
          "state": {
            "_view_name": "HTMLView",
            "style": "IPY_MODEL_797c26cfd5324e429ceacaaa89174526",
            "_dom_classes": [],
            "description": "",
            "_model_name": "HTMLModel",
            "placeholder": "​",
            "_view_module": "@jupyter-widgets/controls",
            "_model_module_version": "1.5.0",
            "value": " 6040/6040 [00:23&lt;00:00, 261.81it/s]",
            "_view_count": null,
            "_view_module_version": "1.5.0",
            "description_tooltip": null,
            "_model_module": "@jupyter-widgets/controls",
            "layout": "IPY_MODEL_dbd19a79c93c47cf955ef0935be12147"
          }
        },
        "a6a157fb46d7433bbad48984068c1438": {
          "model_module": "@jupyter-widgets/controls",
          "model_name": "ProgressStyleModel",
          "state": {
            "_view_name": "StyleView",
            "_model_name": "ProgressStyleModel",
            "description_width": "initial",
            "_view_module": "@jupyter-widgets/base",
            "_model_module_version": "1.5.0",
            "_view_count": null,
            "_view_module_version": "1.2.0",
            "bar_color": null,
            "_model_module": "@jupyter-widgets/controls"
          }
        },
        "2629d9ed56ff4f9fb762be85813d908d": {
          "model_module": "@jupyter-widgets/base",
          "model_name": "LayoutModel",
          "state": {
            "_view_name": "LayoutView",
            "grid_template_rows": null,
            "right": null,
            "justify_content": null,
            "_view_module": "@jupyter-widgets/base",
            "overflow": null,
            "_model_module_version": "1.2.0",
            "_view_count": null,
            "flex_flow": null,
            "width": null,
            "min_width": null,
            "border": null,
            "align_items": null,
            "bottom": null,
            "_model_module": "@jupyter-widgets/base",
            "top": null,
            "grid_column": null,
            "overflow_y": null,
            "overflow_x": null,
            "grid_auto_flow": null,
            "grid_area": null,
            "grid_template_columns": null,
            "flex": null,
            "_model_name": "LayoutModel",
            "justify_items": null,
            "grid_row": null,
            "max_height": null,
            "align_content": null,
            "visibility": null,
            "align_self": null,
            "height": null,
            "min_height": null,
            "padding": null,
            "grid_auto_rows": null,
            "grid_gap": null,
            "max_width": null,
            "order": null,
            "_view_module_version": "1.2.0",
            "grid_template_areas": null,
            "object_position": null,
            "object_fit": null,
            "grid_auto_columns": null,
            "margin": null,
            "display": null,
            "left": null
          }
        },
        "797c26cfd5324e429ceacaaa89174526": {
          "model_module": "@jupyter-widgets/controls",
          "model_name": "DescriptionStyleModel",
          "state": {
            "_view_name": "StyleView",
            "_model_name": "DescriptionStyleModel",
            "description_width": "",
            "_view_module": "@jupyter-widgets/base",
            "_model_module_version": "1.5.0",
            "_view_count": null,
            "_view_module_version": "1.2.0",
            "_model_module": "@jupyter-widgets/controls"
          }
        },
        "dbd19a79c93c47cf955ef0935be12147": {
          "model_module": "@jupyter-widgets/base",
          "model_name": "LayoutModel",
          "state": {
            "_view_name": "LayoutView",
            "grid_template_rows": null,
            "right": null,
            "justify_content": null,
            "_view_module": "@jupyter-widgets/base",
            "overflow": null,
            "_model_module_version": "1.2.0",
            "_view_count": null,
            "flex_flow": null,
            "width": null,
            "min_width": null,
            "border": null,
            "align_items": null,
            "bottom": null,
            "_model_module": "@jupyter-widgets/base",
            "top": null,
            "grid_column": null,
            "overflow_y": null,
            "overflow_x": null,
            "grid_auto_flow": null,
            "grid_area": null,
            "grid_template_columns": null,
            "flex": null,
            "_model_name": "LayoutModel",
            "justify_items": null,
            "grid_row": null,
            "max_height": null,
            "align_content": null,
            "visibility": null,
            "align_self": null,
            "height": null,
            "min_height": null,
            "padding": null,
            "grid_auto_rows": null,
            "grid_gap": null,
            "max_width": null,
            "order": null,
            "_view_module_version": "1.2.0",
            "grid_template_areas": null,
            "object_position": null,
            "object_fit": null,
            "grid_auto_columns": null,
            "margin": null,
            "display": null,
            "left": null
          }
        }
      }
    }
  },
  "cells": [
    {
      "cell_type": "markdown",
      "metadata": {
        "id": "eM8vidd-zV_s"
      },
      "source": [
        "# Part I. Prepare data"
      ]
    },
    {
      "cell_type": "markdown",
      "metadata": {
        "id": "fBBqeubUzZJn"
      },
      "source": [
        "### 1. Create first Tensor: user_id $\\times$ movie_id $\\times$ rating"
      ]
    },
    {
      "cell_type": "code",
      "metadata": {
        "id": "ovwWn0qZjLNX"
      },
      "source": [
        "import numpy as np\r\n",
        "import pandas as pd\r\n",
        "import os\r\n",
        "import torch\r\n",
        "from tqdm import tqdm_notebook\r\n",
        "\r\n",
        "from google_drive_downloader import GoogleDriveDownloader as gdd\r\n",
        "\r\n",
        "gdd.download_file_from_google_drive(file_id='1GNllmHs0cH8FQVu68AwrttMzere4KJhG',\r\n",
        "                                    dest_path='./ratings.dat',\r\n",
        "                                    unzip=True)\r\n",
        "\r\n",
        "gdd.download_file_from_google_drive(file_id='1V91TkGCwGFfeL08jpTbzsXBMndD_zWy0',\r\n",
        "                                    dest_path='./movies.dat',\r\n",
        "                                    unzip=True)"
      ],
      "execution_count": 1,
      "outputs": []
    },
    {
      "cell_type": "code",
      "metadata": {
        "id": "qEb1k4MzjMD6"
      },
      "source": [
        "rating_data = pd.io.parsers.read_csv('ratings.dat', \r\n",
        "    names=['user_id', 'movie_id', 'rating', 'time'],\r\n",
        "    engine='python', delimiter='::')\r\n",
        "\r\n",
        "movies_data = pd.io.parsers.read_csv('movies.dat', \r\n",
        "    names=['movie_id', 'name', 'genre'],\r\n",
        "    engine='python', delimiter='::')"
      ],
      "execution_count": 2,
      "outputs": []
    },
    {
      "cell_type": "code",
      "metadata": {
        "id": "EIJm_4NUjPv4"
      },
      "source": [
        "import datetime\r\n",
        "\r\n",
        "rating_data['date'] = pd.to_datetime(rating_data['time'], unit='s', origin='unix')\r\n",
        "rating_data['year'] = rating_data['date'].apply(lambda x: x.year)\r\n",
        "rating_data['month'] = rating_data['date'].apply(lambda x: x.month)"
      ],
      "execution_count": 3,
      "outputs": []
    },
    {
      "cell_type": "code",
      "metadata": {
        "id": "Sx3YLBn9jRT4"
      },
      "source": [
        "def data_truncate(key):\r\n",
        "    user_item_key = rating_data[['user_id', key, 'movie_id']]\r\n",
        "    user_item_key['binary'] = np.ones(user_item_key.shape[0], dtype=np.int8)\r\n",
        "    user_item_key = user_item_key.sort_values(by=['user_id', 'movie_id'])\r\n",
        "\r\n",
        "    return user_item_key"
      ],
      "execution_count": 4,
      "outputs": []
    },
    {
      "cell_type": "code",
      "metadata": {
        "id": "2pckBY-mjT3Y"
      },
      "source": [
        "def fill_extra_movies(data_user, column): \r\n",
        "    extra_movies = []\r\n",
        "    users = data_user.user_id.unique()\r\n",
        "\r\n",
        "    for user in tqdm_notebook(users):\r\n",
        "        current_user_frame = data_user[data_user['user_id'] == user]\r\n",
        "        movies_user = current_user_frame['movie_id'].unique()\r\n",
        "\r\n",
        "        add_movies = np.array(list(set(all_movies) - set(movies_user)))\r\n",
        "        qty_movies = add_movies.shape[0]\r\n",
        "\r\n",
        "        user_rate = np.tile([user, 1], qty_movies).reshape(qty_movies, 2)\r\n",
        "        binary_col = np.zeros(qty_movies, dtype=np.int8)[:, None]\r\n",
        "\r\n",
        "        res_frame = np.hstack((user_rate, add_movies[:, None], binary_col))\r\n",
        "        extra_movies.append(res_frame)\r\n",
        "\r\n",
        "    extra_frame = pd.DataFrame(np.vstack(extra_movies), columns=['user_id', column, 'movie_id', 'binary'])\r\n",
        "    data_new = pd.concat((data_user, extra_frame))\r\n",
        "\r\n",
        "    return data_new"
      ],
      "execution_count": 5,
      "outputs": []
    },
    {
      "cell_type": "code",
      "metadata": {
        "id": "PR5AmdnxjVFo"
      },
      "source": [
        "def create_pivot(data_user, column):\r\n",
        "    pivot = pd.pivot_table(data_user, values='binary', index=['user_id', 'movie_id'],\r\n",
        "                        columns=[column])\r\n",
        "    \r\n",
        "    pivot = pivot.fillna(0)\r\n",
        "    return pivot"
      ],
      "execution_count": 6,
      "outputs": []
    },
    {
      "cell_type": "code",
      "metadata": {
        "id": "gnr3ZGCGjXCo"
      },
      "source": [
        "user_item_rate = data_truncate('rating')\r\n",
        "all_movies = np.sort(user_item_rate.movie_id.unique()) #Calculate only once"
      ],
      "execution_count": null,
      "outputs": []
    },
    {
      "cell_type": "code",
      "metadata": {
        "id": "xUOLaDRNjc3J"
      },
      "source": [
        "data_uir = fill_extra_movies(user_item_rate, 'rating')"
      ],
      "execution_count": null,
      "outputs": []
    },
    {
      "cell_type": "code",
      "metadata": {
        "id": "5DOXAapcje8R"
      },
      "source": [
        "uir_pivot = create_pivot(data_uir, 'rating')"
      ],
      "execution_count": 9,
      "outputs": []
    },
    {
      "cell_type": "code",
      "metadata": {
        "id": "h94QQsxHjuy4"
      },
      "source": [
        "num_of_users = rating_data.user_id.nunique() #Calculate only once\r\n",
        "num_of_movies = rating_data.movie_id.nunique() #Calculate only once\r\n",
        "num_of_rates = rating_data.rating.nunique()"
      ],
      "execution_count": 10,
      "outputs": []
    },
    {
      "cell_type": "code",
      "metadata": {
        "id": "wY_u8OLn_v3s"
      },
      "source": [
        "user_movie_rate_array = uir_pivot.values.reshape(num_of_users, num_of_movies, num_of_rates)\r\n",
        "sparse_user_movie_rate = torch.tensor(user_movie_rate_array)"
      ],
      "execution_count": 11,
      "outputs": []
    },
    {
      "cell_type": "code",
      "metadata": {
        "id": "oEtxCebxj1ro"
      },
      "source": [
        "users = sparse_user_movie_rate.shape[0]"
      ],
      "execution_count": 12,
      "outputs": []
    },
    {
      "cell_type": "code",
      "metadata": {
        "id": "Zrx1LQmHj9F4"
      },
      "source": [
        "feedback_tensor_train = sparse_user_movie_rate[:int(users * 0.7)]\r\n",
        "feedback_tensor_test = sparse_user_movie_rate[int(users * 0.7):]"
      ],
      "execution_count": 12,
      "outputs": []
    },
    {
      "cell_type": "markdown",
      "metadata": {
        "id": "5eE1iInozvI7"
      },
      "source": [
        "### 2. Create second Tensor: user_id  ×  movie_id  ×  month"
      ]
    },
    {
      "cell_type": "code",
      "metadata": {
        "id": "xrVxv_940Ebp"
      },
      "source": [
        "user_item_month = data_truncate('month')\r\n",
        "all_movies = np.sort(user_item_month.movie_id.unique()) #Calculate only once"
      ],
      "execution_count": null,
      "outputs": []
    },
    {
      "cell_type": "code",
      "metadata": {
        "colab": {
          "base_uri": "https://localhost:8080/",
          "height": 120,
          "referenced_widgets": [
            "466918dc4e294adaa6599be18ce24321",
            "d361f85bad304ee3a27c731b217b9898",
            "d0eac6e331b4418a84fea44ead918215",
            "64c0938d9b4148818bdb6e38cc81c2d8",
            "a6a157fb46d7433bbad48984068c1438",
            "2629d9ed56ff4f9fb762be85813d908d",
            "797c26cfd5324e429ceacaaa89174526",
            "dbd19a79c93c47cf955ef0935be12147"
          ]
        },
        "id": "5-aEibTX0ML4",
        "outputId": "a752dc1e-3850-4b05-e816-048cf67d7670"
      },
      "source": [
        "data_uim = fill_extra_movies(user_item_month, 'month')\r\n",
        "uim_pivot = create_pivot(data_uim, 'month')\r\n",
        "num_of_users = rating_data.user_id.nunique() #Calculate only once\r\n",
        "num_of_movies = rating_data.movie_id.nunique() #Calculate only once\r\n",
        "num_of_months = rating_data.month.nunique()\r\n",
        "\r\n",
        "user_movie_month_array = uim_pivot.values.reshape(num_of_users, num_of_movies, num_of_months)\r\n",
        "sparse_user_movie_month = torch.tensor(user_movie_month_array)"
      ],
      "execution_count": 8,
      "outputs": [
        {
          "output_type": "stream",
          "text": [
            "/usr/local/lib/python3.6/dist-packages/ipykernel_launcher.py:5: TqdmDeprecationWarning: This function will be removed in tqdm==5.0.0\n",
            "Please use `tqdm.notebook.tqdm` instead of `tqdm.tqdm_notebook`\n",
            "  \"\"\"\n"
          ],
          "name": "stderr"
        },
        {
          "output_type": "display_data",
          "data": {
            "application/vnd.jupyter.widget-view+json": {
              "model_id": "466918dc4e294adaa6599be18ce24321",
              "version_minor": 0,
              "version_major": 2
            },
            "text/plain": [
              "HBox(children=(FloatProgress(value=0.0, max=6040.0), HTML(value='')))"
            ]
          },
          "metadata": {
            "tags": []
          }
        },
        {
          "output_type": "stream",
          "text": [
            "\n"
          ],
          "name": "stdout"
        }
      ]
    },
    {
      "cell_type": "code",
      "metadata": {
        "id": "-qFD90Y80U3a"
      },
      "source": [
        "users = sparse_user_movie_month.shape[0]\r\n",
        "context_tensor_train = sparse_user_movie_month[:int(users * 0.7)]\r\n",
        "context_tensor_test = sparse_user_movie_month[int(users * 0.7):]"
      ],
      "execution_count": 10,
      "outputs": []
    },
    {
      "cell_type": "markdown",
      "metadata": {
        "id": "sD1ZQvOyjX_h"
      },
      "source": [
        "# Part II. Apply Tenosrly Tucker decomposition and recommend"
      ]
    },
    {
      "cell_type": "markdown",
      "metadata": {
        "id": "zkUND3MF0sUB"
      },
      "source": [
        "### 1. Feedback tensor recommends"
      ]
    },
    {
      "cell_type": "code",
      "metadata": {
        "id": "tPl05ClPj-XY"
      },
      "source": [
        "#!pip install tensorly"
      ],
      "execution_count": 16,
      "outputs": []
    },
    {
      "cell_type": "code",
      "metadata": {
        "id": "9knFCbiQj_tY"
      },
      "source": [
        "feedback_tensor_train = np.array(feedback_tensor_train)"
      ],
      "execution_count": 17,
      "outputs": []
    },
    {
      "cell_type": "code",
      "metadata": {
        "id": "pKwhP8G-kDVQ"
      },
      "source": [
        "from tensorly.decomposition import tucker\r\n",
        "\r\n",
        "core, (U, V, W) = tucker(feedback_tensor_train, rank=[20, 20, 5])"
      ],
      "execution_count": 18,
      "outputs": []
    },
    {
      "cell_type": "code",
      "metadata": {
        "id": "0MFC_10v3B36"
      },
      "source": [
        "# {0: 1, 1: 3, 2: 4} - индексирование фильмов\r\n",
        "movie_mapping = {x: y for x, y in enumerate(sorted(data_uir.movie_id.unique()))}\r\n",
        "\r\n",
        "# {0: 1, 1: 3, 2: 4} - индексирование юзеров (необязательно)\r\n",
        "user_mapping = {x: y for x, y in enumerate(sorted(data_uir.user_id.unique()))}\r\n",
        "\r\n",
        "# {0: 1, 1: 3, 2: 4} - индексирование юзеров в трейне\r\n",
        "user_mapping_train = {key: item for key, item in user_mapping.items() if key < int(users * 0.7)}\r\n",
        "\r\n",
        "# {0: 2000, 1: 2001, 2: 2002} - индексирование юзеров в тесте\r\n",
        "user_mapping_test = {key: item for key, item in user_mapping.items() if key >= int(users * 0.7)}\r\n",
        "user_mapping_test = {index: value for index, value in enumerate(user_mapping_test.values())}"
      ],
      "execution_count": 19,
      "outputs": []
    },
    {
      "cell_type": "code",
      "metadata": {
        "id": "YlcLqqWcw9Aq"
      },
      "source": [
        "def calculate_predictions(test_tensor, i, V, W, user_mapping_test):\r\n",
        "    unknown_user = np.array(test_tensor[i])\r\n",
        "    user_test_id = user_mapping_test[i]\r\n",
        "\r\n",
        "    nonzero_row, nonzero_col  = np.nonzero(unknown_user)\r\n",
        "\r\n",
        "    movie_to_rating = {}\r\n",
        "\r\n",
        "    for _ in range(int(len(nonzero_row) * 0.3)): # Зануление оценок фильмов для дальнейшего предикта\r\n",
        "        array_nonzero = np.nonzero(unknown_user)\r\n",
        "        nonzero_row, nonzero_col = np.nonzero(unknown_user)\r\n",
        "        nonzero_indeces = list(zip(nonzero_row, nonzero_col))\r\n",
        "        np.random.shuffle(nonzero_indeces)\r\n",
        "\r\n",
        "        index, value = nonzero_indeces[0]\r\n",
        "        \r\n",
        "        deleted_movie_id = movie_mapping[index]\r\n",
        "        movie_to_rating[deleted_movie_id] = value\r\n",
        "\r\n",
        "        unknown_user[index, value] = 0\r\n",
        "\r\n",
        "    R_unknown_user = V @ V.T @ unknown_user @ W @ W.T\r\n",
        "    R_unknown_user += abs(R_unknown_user.min())\r\n",
        "\r\n",
        "    rate_index_max = np.argmax(R_unknown_user, axis=1) \r\n",
        "    rate_index_prob = R_unknown_user[np.arange(R_unknown_user.shape[0]), rate_index_max]\r\n",
        "\r\n",
        "    data_rate = pd.DataFrame(np.hstack((rate_index_max[:, None], rate_index_prob[:, None])), columns=['max_rate_index', 'prob'])\r\n",
        "    data_rate['max_rate_index'] = data_rate['max_rate_index'].astype(int)\r\n",
        "    data_rate = data_rate.sort_values(by=['max_rate_index', 'prob'], ascending=False)\r\n",
        "\r\n",
        "    movie_to_rating_predict = data_rate[data_rate.index.isin(movie_to_rating.keys())]['max_rate_index'].to_dict()\r\n",
        "\r\n",
        "    result_df_true = pd.DataFrame.from_dict(movie_to_rating, orient=\"index\", columns=[\"true\"])\r\n",
        "    result_df_predict = pd.DataFrame.from_dict(movie_to_rating_predict, orient=\"index\", columns=[\"predict\"])\r\n",
        "\r\n",
        "    result_df = pd.merge(result_df_predict, result_df_true, left_index=True, right_index=True)\r\n",
        "\r\n",
        "    return result_df\r\n"
      ],
      "execution_count": 20,
      "outputs": []
    },
    {
      "cell_type": "code",
      "metadata": {
        "id": "JEmDysQI6jfK"
      },
      "source": [
        "df_list = []\r\n",
        "for i in tqdm_notebook(range(feedback_tensor_test.shape[0])):\r\n",
        "    df_list.append(calculate_predictions(feedback_tensor_test, i, V, W, user_mapping_test))\r\n",
        "\r\n",
        "big_df = pd.concat(df_list)"
      ],
      "execution_count": null,
      "outputs": []
    },
    {
      "cell_type": "markdown",
      "metadata": {
        "id": "c9xvSYoW4Dpl"
      },
      "source": [
        "Metric 1: Feedback value deviation "
      ]
    },
    {
      "cell_type": "code",
      "metadata": {
        "id": "ey3lIR8gLBHs"
      },
      "source": [
        "feedback_value_deviation = abs(big_df.predict - big_df.true)"
      ],
      "execution_count": 22,
      "outputs": []
    },
    {
      "cell_type": "markdown",
      "metadata": {
        "id": "YOmoQVok4RcN"
      },
      "source": [
        "Metric 2: Feedback metric table"
      ]
    },
    {
      "cell_type": "code",
      "metadata": {
        "id": "UelD8cpYCrGC"
      },
      "source": [
        "from sklearn.metrics import ndcg_score, precision_score, recall_score, accuracy_score, f1_score\r\n",
        "\r\n",
        "metrics = []\r\n",
        "for threshold in range(0, 5):\r\n",
        "    predict = big_df.predict.apply(lambda x: 1 if x >= threshold else 0)\r\n",
        "    true = big_df.true.apply(lambda x: 1 if x >= threshold else 0)\r\n",
        "    precision = precision_score(true, predict)\r\n",
        "    ndcg = ndcg_score(np.asarray([true]), np.asarray([predict]))\r\n",
        "    recall = recall_score(true, predict)\r\n",
        "    accuracy = accuracy_score(true, predict)\r\n",
        "    f1 = f1_score(true, predict)\r\n",
        "\r\n",
        "    result = {\"precision\": precision, \"ndcg\": ndcg, \"recall\": recall, \"accuracy\": accuracy, \"f1\": f1}\r\n",
        "\r\n",
        "    metrics.append(result)"
      ],
      "execution_count": 23,
      "outputs": []
    },
    {
      "cell_type": "code",
      "metadata": {
        "id": "0qKwgx9XDtRE"
      },
      "source": [
        "feedback_metric_table = pd.DataFrame(metrics)"
      ],
      "execution_count": 24,
      "outputs": []
    },
    {
      "cell_type": "code",
      "metadata": {
        "id": "c0szUfXT9K1n"
      },
      "source": [
        "# np.save(\"feedback_value_deviation.npy\", feedback_value_deviation)\r\n",
        "# feedback_metric_table.to_csv(\"feedback_metric_table.csv\")\r\n",
        "# big_df.to_csv(\"rating_predict.csv\")"
      ],
      "execution_count": 30,
      "outputs": []
    },
    {
      "cell_type": "markdown",
      "metadata": {
        "id": "jYKoqK53HtVu"
      },
      "source": [
        "### 2. Context tensor predictions"
      ]
    },
    {
      "cell_type": "code",
      "metadata": {
        "id": "BvkE0DvGIjD_"
      },
      "source": [
        "context_tensor_train = np.array(context_tensor_train)"
      ],
      "execution_count": 11,
      "outputs": []
    },
    {
      "cell_type": "code",
      "metadata": {
        "id": "r6cSh5B9IplA"
      },
      "source": [
        "from tensorly.decomposition import tucker\r\n",
        "\r\n",
        "core, (U, V, W) = tucker(context_tensor_train, rank=[20, 20, 12])"
      ],
      "execution_count": 12,
      "outputs": []
    },
    {
      "cell_type": "code",
      "metadata": {
        "id": "i49mx-r-IwRy"
      },
      "source": [
        "# {0: 1, 1: 3, 2: 4} - индексирование фильмов\r\n",
        "movie_mapping = {x: y for x, y in enumerate(sorted(data_uim.movie_id.unique()))}\r\n",
        "\r\n",
        "# {0: 1, 1: 3, 2: 4} - индексирование юзеров (необязательно)\r\n",
        "user_mapping = {x: y for x, y in enumerate(sorted(data_uim.user_id.unique()))}\r\n",
        "\r\n",
        "# {0: 1, 1: 3, 2: 4} - индексирование юзеров в трейне\r\n",
        "user_mapping_train = {key: item for key, item in user_mapping.items() if key < int(users * 0.7)}\r\n",
        "\r\n",
        "# {0: 2000, 1: 2001, 2: 2002} - индексирование юзеров в тесте\r\n",
        "user_mapping_test = {key: item for key, item in user_mapping.items() if key >= int(users * 0.7)}\r\n",
        "user_mapping_test = {index: value for index, value in enumerate(user_mapping_test.values())}"
      ],
      "execution_count": 13,
      "outputs": []
    },
    {
      "cell_type": "code",
      "metadata": {
        "id": "X5Hq1B4yKMw5"
      },
      "source": [
        "def calculate_predictions_month(test_tensor, i, V, W, user_mapping_test):\r\n",
        "    unknown_user = np.array(test_tensor[i])\r\n",
        "    user_test_id = user_mapping_test[i]\r\n",
        "\r\n",
        "    nonzero_row, nonzero_col  = np.nonzero(unknown_user)\r\n",
        "\r\n",
        "    movie_to_month = {}\r\n",
        "\r\n",
        "    for _ in range(int(len(nonzero_row) * 0.3)): # Зануление оценок фильмов для дальнейшего предикта\r\n",
        "        array_nonzero = np.nonzero(unknown_user)\r\n",
        "        nonzero_row, nonzero_col = np.nonzero(unknown_user)\r\n",
        "        nonzero_indeces = list(zip(nonzero_row, nonzero_col))\r\n",
        "        np.random.shuffle(nonzero_indeces)\r\n",
        "\r\n",
        "        index, value = nonzero_indeces[0]\r\n",
        "        \r\n",
        "        deleted_movie_id = movie_mapping[index]\r\n",
        "        movie_to_month[deleted_movie_id] = value\r\n",
        "\r\n",
        "        unknown_user[index, value] = 0\r\n",
        "\r\n",
        "    R_unknown_user = V @ V.T @ unknown_user @ W @ W.T\r\n",
        "    R_unknown_user += abs(R_unknown_user.min())\r\n",
        "\r\n",
        "    month_index_max = np.argmax(R_unknown_user, axis=1) \r\n",
        "    month_index_prob = R_unknown_user[np.arange(R_unknown_user.shape[0]), month_index_max]\r\n",
        "\r\n",
        "    data_month = pd.DataFrame(np.hstack((month_index_max[:, None], month_index_prob[:, None])), columns=['max_month_index', 'prob'])\r\n",
        "    data_month['max_month_index'] = data_month['max_month_index'].astype(int)\r\n",
        "    data_month = data_month.sort_values(by=['max_month_index', 'prob'], ascending=False)\r\n",
        "\r\n",
        "    movie_to_month_predict = data_month[data_month.index.isin(movie_to_month.keys())]['max_month_index'].to_dict()\r\n",
        "\r\n",
        "    result_df_true = pd.DataFrame.from_dict(movie_to_month, orient=\"index\", columns=[\"true\"])\r\n",
        "    result_df_predict = pd.DataFrame.from_dict(movie_to_month_predict, orient=\"index\", columns=[\"predict\"])\r\n",
        "\r\n",
        "    result_df = pd.merge(result_df_predict, result_df_true, left_index=True, right_index=True)\r\n",
        "\r\n",
        "    return result_df\r\n"
      ],
      "execution_count": 14,
      "outputs": []
    },
    {
      "cell_type": "code",
      "metadata": {
        "id": "OYVWZevgLKAu"
      },
      "source": [
        "df_list_month = []"
      ],
      "execution_count": 15,
      "outputs": []
    },
    {
      "cell_type": "code",
      "metadata": {
        "id": "ZX0QNKQfLNEe"
      },
      "source": [
        "for i in tqdm_notebook(range(context_tensor_test.shape[0])):\r\n",
        "    df_list_month.append(calculate_predictions_month(context_tensor_test, i, V, W, user_mapping_test))"
      ],
      "execution_count": null,
      "outputs": []
    },
    {
      "cell_type": "code",
      "metadata": {
        "id": "sG_XsjFDLVQr"
      },
      "source": [
        "big_df_month = pd.concat(df_list_month)"
      ],
      "execution_count": 17,
      "outputs": []
    },
    {
      "cell_type": "code",
      "metadata": {
        "id": "a2wBLDz7E7J7"
      },
      "source": [
        "# month_value_deviation = abs(big_df_month.predict - big_df_month.true)\r\n",
        "# np.save(\"month_value_deviation.npy\", month_value_deviation)"
      ],
      "execution_count": 19,
      "outputs": []
    },
    {
      "cell_type": "code",
      "metadata": {
        "id": "FV3lTcvKP5G9"
      },
      "source": [
        "def get_window(window, true, predict):\r\n",
        "    min_val, max_val = true - window, true + window\r\n",
        "    months_array = [x % 12 if (x < 0) or (x >= 12) else x for x in range(min_val, max_val + 1)]\r\n",
        "    return int(predict in months_array)"
      ],
      "execution_count": 20,
      "outputs": []
    },
    {
      "cell_type": "code",
      "metadata": {
        "id": "FnUouUfoQjlf"
      },
      "source": [
        "def apply_window(predictions_df, win):\r\n",
        "    binary_arr = []\r\n",
        "    for index, row in tqdm_notebook(big_df_month.iterrows()):\r\n",
        "        predict_val = row.predict\r\n",
        "        true_val = row.true\r\n",
        "\r\n",
        "        binary_val = get_window(win, true_val, predict_val)\r\n",
        "        binary_arr.append(binary_val)\r\n",
        "\r\n",
        "    big_df_month[f'binary_{win}'] = binary_arr\r\n",
        "\r\n",
        "    return big_df_month"
      ],
      "execution_count": 21,
      "outputs": []
    },
    {
      "cell_type": "code",
      "metadata": {
        "id": "zuGso6FIS9_L"
      },
      "source": [
        "for win in range(0, 6):\r\n",
        "      big_df_month = apply_window(big_df_month, win)"
      ],
      "execution_count": null,
      "outputs": []
    },
    {
      "cell_type": "code",
      "metadata": {
        "id": "hlXjndk4VkVC"
      },
      "source": [
        "# big_df_month.to_csv(\"month_predict.csv\")"
      ],
      "execution_count": 23,
      "outputs": []
    },
    {
      "cell_type": "code",
      "metadata": {
        "id": "VsappGOghP2J"
      },
      "source": [
        "metrics = []"
      ],
      "execution_count": 24,
      "outputs": []
    },
    {
      "cell_type": "code",
      "metadata": {
        "id": "80zklGZWbMMn"
      },
      "source": [
        "for win in range(0, 6):\r\n",
        "    predict = big_df_month[f\"binary_{win}\"]\r\n",
        "    accuracy = predict.sum()/len(predict)\r\n",
        "\r\n",
        "    result = {\"accuracy\": accuracy}\r\n",
        "\r\n",
        "    metrics.append(result)"
      ],
      "execution_count": 25,
      "outputs": []
    },
    {
      "cell_type": "code",
      "metadata": {
        "id": "GzWgbKDJhe8U"
      },
      "source": [
        "tucker_context_metrics = pd.DataFrame(metrics)"
      ],
      "execution_count": 26,
      "outputs": []
    },
    {
      "cell_type": "code",
      "metadata": {
        "id": "w4JmkOEQFXch"
      },
      "source": [
        "# tucker_context_metrics.to_csv(\"tucker_context_metrics.csv\")"
      ],
      "execution_count": 27,
      "outputs": []
    },
    {
      "cell_type": "markdown",
      "metadata": {
        "id": "LC-YG04g9bfp"
      },
      "source": [
        "# Part III. Visualistation of metrics"
      ]
    },
    {
      "cell_type": "markdown",
      "metadata": {
        "id": "G_buH42-9eIj"
      },
      "source": [
        "### 1. Feedback tensor metrics"
      ]
    },
    {
      "cell_type": "code",
      "metadata": {
        "id": "Z6o_5WUC9nSn"
      },
      "source": [
        "import matplotlib.pyplot as plt\r\n",
        "import seaborn as sns"
      ],
      "execution_count": 29,
      "outputs": []
    },
    {
      "cell_type": "code",
      "metadata": {
        "colab": {
          "base_uri": "https://localhost:8080/",
          "height": 586
        },
        "id": "mm71sEiV9y0_",
        "outputId": "e6926ff6-1e2e-4f3a-a3fc-0ae98a607f6f"
      },
      "source": [
        "plt.figure(figsize=(12, 8))\r\n",
        "\r\n",
        "sns.countplot(feedback_value_deviation)\r\n",
        "\r\n",
        "plt.xlabel(r'Deviation from true score', fontsize=20)\r\n",
        "plt.ylabel('Counts', fontsize=20)\r\n",
        "\r\n",
        "plt.xticks(fontsize=15)\r\n",
        "plt.yticks(fontsize=15)\r\n",
        "\r\n",
        "\r\n",
        "plt.title(r'Feedback model deviation', fontsize=18);"
      ],
      "execution_count": 40,
      "outputs": [
        {
          "output_type": "stream",
          "text": [
            "/usr/local/lib/python3.6/dist-packages/seaborn/_decorators.py:43: FutureWarning: Pass the following variable as a keyword arg: x. From version 0.12, the only valid positional argument will be `data`, and passing other arguments without an explicit keyword will result in an error or misinterpretation.\n",
            "  FutureWarning\n"
          ],
          "name": "stderr"
        },
        {
          "output_type": "display_data",
          "data": {
            "image/png": "[encoded data removed]",
            "text/plain": [
              "<Figure size 864x576 with 1 Axes>"
            ]
          },
          "metadata": {
            "tags": [],
            "needs_background": "light"
          }
        }
      ]
    },
    {
      "cell_type": "code",
      "metadata": {
        "colab": {
          "base_uri": "https://localhost:8080/",
          "height": 531
        },
        "id": "z0ABsIIu9ltl",
        "outputId": "985a56aa-52ec-480e-bf63-9d56b7deddcb"
      },
      "source": [
        "feedback_metric_table.plot(figsize=(12,8));\r\n",
        "\r\n",
        "plt.xlabel(r'Rating threshold', fontsize=20)\r\n",
        "plt.ylabel('Metric value', fontsize=20)\r\n",
        "\r\n",
        "plt.xticks(fontsize=15)\r\n",
        "plt.yticks(fontsize=15)\r\n",
        "\r\n",
        "plt.legend(fontsize=15)\r\n",
        "\r\n",
        "plt.grid()\r\n",
        "\r\n",
        "plt.title(r'Feedback model metrics', fontsize=18);"
      ],
      "execution_count": 49,
      "outputs": [
        {
          "output_type": "display_data",
          "data": {
            "image/png": "[encoded data removed]",
            "text/plain": [
              "<Figure size 864x576 with 1 Axes>"
            ]
          },
          "metadata": {
            "tags": [],
            "needs_background": "light"
          }
        }
      ]
    },
    {
      "cell_type": "markdown",
      "metadata": {
        "id": "wS5Du88q-ROI"
      },
      "source": [
        "### 2. Context tensor metrics"
      ]
    },
    {
      "cell_type": "code",
      "metadata": {
        "colab": {
          "base_uri": "https://localhost:8080/",
          "height": 586
        },
        "id": "0T95wT32_XgU",
        "outputId": "caee46b5-3adf-4744-a03e-68345b78c8f5"
      },
      "source": [
        "plt.figure(figsize=(12, 8))\r\n",
        "\r\n",
        "sns.countplot(month_value_deviation)\r\n",
        "\r\n",
        "plt.xlabel(r'Deviation from true score', fontsize=20)\r\n",
        "plt.ylabel('Counts', fontsize=20)\r\n",
        "\r\n",
        "plt.xticks(fontsize=15)\r\n",
        "plt.yticks(fontsize=15)\r\n",
        "\r\n",
        "\r\n",
        "feedback_metric_table.plot(figsize=(12,8));\r\n",
        "\r\n",
        "plt.xlabel(r'Rating threshold', fontsize=20)\r\n",
        "plt.ylabel('Metric value', fontsize=20)\r\n",
        "\r\n",
        "plt.xticks(fontsize=15)\r\n",
        "plt.yticks(fontsize=15)\r\n",
        "\r\n",
        "plt.legend(fontsize=15)\r\n",
        "\r\n",
        "plt.grid()\r\n",
        "\r\n",
        "plt.title(r'Feedback model metrics', fontsize=18);plt.title(r'Context model deviation', fontsize=18);"
      ],
      "execution_count": 31,
      "outputs": [
        {
          "output_type": "stream",
          "text": [
            "/usr/local/lib/python3.6/dist-packages/seaborn/_decorators.py:43: FutureWarning: Pass the following variable as a keyword arg: x. From version 0.12, the only valid positional argument will be `data`, and passing other arguments without an explicit keyword will result in an error or misinterpretation.\n",
            "  FutureWarning\n"
          ],
          "name": "stderr"
        },
        {
          "output_type": "display_data",
          "data": {
            "image/png": "[encoded data removed]",
            "text/plain": [
              "<Figure size 864x576 with 1 Axes>"
            ]
          },
          "metadata": {
            "tags": [],
            "needs_background": "light"
          }
        }
      ]
    },
    {
      "cell_type": "code",
      "metadata": {
        "colab": {
          "base_uri": "https://localhost:8080/",
          "height": 531
        },
        "id": "7K2drrqjFlRe",
        "outputId": "4db97e0e-8589-432a-f81b-a3e0e597c74c"
      },
      "source": [
        "tucker_context_metrics.plot(figsize=(12,8));\r\n",
        "\r\n",
        "plt.xlabel(r'Window size', fontsize=20)\r\n",
        "plt.ylabel('Metric value', fontsize=20)\r\n",
        "\r\n",
        "plt.xticks(fontsize=15)\r\n",
        "plt.yticks(fontsize=15)\r\n",
        "\r\n",
        "plt.legend(fontsize=15)\r\n",
        "\r\n",
        "plt.grid()\r\n",
        "\r\n",
        "plt.title(r'Context model metric', fontsize=18);"
      ],
      "execution_count": 36,
      "outputs": [
        {
          "output_type": "display_data",
          "data": {
            "image/png": "[encoded data removed]",
            "text/plain": [
              "<Figure size 864x576 with 1 Axes>"
            ]
          },
          "metadata": {
            "tags": [],
            "needs_background": "light"
          }
        }
      ]
    },
    {
      "cell_type": "markdown",
      "metadata": {
        "id": "bhhjJKGLFyVh"
      },
      "source": [
        "# Part IV. Demo"
      ]
    },
    {
      "cell_type": "code",
      "metadata": {
        "id": "IXVtTstmGrAj"
      },
      "source": [
        "feedback_df = pd.read_csv(\"rating_predict.csv\")"
      ],
      "execution_count": 95,
      "outputs": []
    },
    {
      "cell_type": "code",
      "metadata": {
        "id": "oDDDMmopG-Fa"
      },
      "source": [
        "user_id = []\r\n",
        "previous_indeces = []\r\n",
        "current_user_id = 0\r\n",
        "for index, row in feedback_df.iterrows():\r\n",
        "      if row['Unnamed: 0'] in previous_indeces:\r\n",
        "            previous_indeces = []\r\n",
        "            current_user_id += 1\r\n",
        "      previous_indeces.append(row['Unnamed: 0'])\r\n",
        "      user_id.append(current_user_id)"
      ],
      "execution_count": 96,
      "outputs": []
    },
    {
      "cell_type": "code",
      "metadata": {
        "id": "gSFps__MG9yo"
      },
      "source": [
        "feedback_df['user_id'] = user_id\r\n",
        "feedback_df.user_id = feedback_df.user_id.apply(lambda x: user_mapping_test[x])\r\n",
        "test_user_id = feedback_df.user_id.unique()[2]\r\n",
        "fav_movie_ids = list(rating_data[(rating_data.user_id == test_user_id) & (rating_data.rating == 5)].movie_id)\r\n",
        "pred_movie_ids = list(feedback_df[(feedback_df.user_id == test_user_id) & (feedback_df.predict == 4)][\"Unnamed: 0\"])"
      ],
      "execution_count": 97,
      "outputs": []
    },
    {
      "cell_type": "markdown",
      "metadata": {
        "id": "iFNh7N-MJfRJ"
      },
      "source": [
        "##### Test user's favorite movies:"
      ]
    },
    {
      "cell_type": "code",
      "metadata": {
        "colab": {
          "base_uri": "https://localhost:8080/",
          "height": 370
        },
        "id": "G7RVpNlrJB01",
        "outputId": "88159c81-5445-4d41-db25-d9fa37119743"
      },
      "source": [
        "movies_data[movies_data.movie_id.isin(fav_movie_ids)][[\"name\"]]"
      ],
      "execution_count": 98,
      "outputs": [
        {
          "output_type": "execute_result",
          "data": {
            "text/html": [
              "<div>\n",
              "<style scoped>\n",
              "    .dataframe tbody tr th:only-of-type {\n",
              "        vertical-align: middle;\n",
              "    }\n",
              "\n",
              "    .dataframe tbody tr th {\n",
              "        vertical-align: top;\n",
              "    }\n",
              "\n",
              "    .dataframe thead th {\n",
              "        text-align: right;\n",
              "    }\n",
              "</style>\n",
              "<table border=\"1\" class=\"dataframe\">\n",
              "  <thead>\n",
              "    <tr style=\"text-align: right;\">\n",
              "      <th></th>\n",
              "      <th>name</th>\n",
              "    </tr>\n",
              "  </thead>\n",
              "  <tbody>\n",
              "    <tr>\n",
              "      <th>0</th>\n",
              "      <td>Toy Story (1995)</td>\n",
              "    </tr>\n",
              "    <tr>\n",
              "      <th>33</th>\n",
              "      <td>Babe (1995)</td>\n",
              "    </tr>\n",
              "    <tr>\n",
              "      <th>436</th>\n",
              "      <td>Dave (1993)</td>\n",
              "    </tr>\n",
              "    <tr>\n",
              "      <th>476</th>\n",
              "      <td>Jurassic Park (1993)</td>\n",
              "    </tr>\n",
              "    <tr>\n",
              "      <th>496</th>\n",
              "      <td>Mrs. Doubtfire (1993)</td>\n",
              "    </tr>\n",
              "    <tr>\n",
              "      <th>583</th>\n",
              "      <td>Ghost (1990)</td>\n",
              "    </tr>\n",
              "    <tr>\n",
              "      <th>1000</th>\n",
              "      <td>Parent Trap, The (1961)</td>\n",
              "    </tr>\n",
              "    <tr>\n",
              "      <th>1179</th>\n",
              "      <td>Princess Bride, The (1987)</td>\n",
              "    </tr>\n",
              "    <tr>\n",
              "      <th>1271</th>\n",
              "      <td>Indiana Jones and the Last Crusade (1989)</td>\n",
              "    </tr>\n",
              "    <tr>\n",
              "      <th>2016</th>\n",
              "      <td>101 Dalmatians (1961)</td>\n",
              "    </tr>\n",
              "    <tr>\n",
              "      <th>2692</th>\n",
              "      <td>Iron Giant, The (1999)</td>\n",
              "    </tr>\n",
              "  </tbody>\n",
              "</table>\n",
              "</div>"
            ],
            "text/plain": [
              "                                           name\n",
              "0                              Toy Story (1995)\n",
              "33                                  Babe (1995)\n",
              "436                                 Dave (1993)\n",
              "476                        Jurassic Park (1993)\n",
              "496                       Mrs. Doubtfire (1993)\n",
              "583                                Ghost (1990)\n",
              "1000                    Parent Trap, The (1961)\n",
              "1179                 Princess Bride, The (1987)\n",
              "1271  Indiana Jones and the Last Crusade (1989)\n",
              "2016                      101 Dalmatians (1961)\n",
              "2692                     Iron Giant, The (1999)"
            ]
          },
          "metadata": {
            "tags": []
          },
          "execution_count": 98
        }
      ]
    },
    {
      "cell_type": "markdown",
      "metadata": {
        "id": "D9qJb1UrJ3lm"
      },
      "source": [
        "##### We recommend:"
      ]
    },
    {
      "cell_type": "code",
      "metadata": {
        "colab": {
          "base_uri": "https://localhost:8080/",
          "height": 399
        },
        "id": "i2Elas3gJU4q",
        "outputId": "51d60380-e794-4e69-9b3f-4a0387807291"
      },
      "source": [
        "movies_data[movies_data.movie_id.isin(pred_movie_ids)][[\"name\"]]"
      ],
      "execution_count": 99,
      "outputs": [
        {
          "output_type": "execute_result",
          "data": {
            "text/html": [
              "<div>\n",
              "<style scoped>\n",
              "    .dataframe tbody tr th:only-of-type {\n",
              "        vertical-align: middle;\n",
              "    }\n",
              "\n",
              "    .dataframe tbody tr th {\n",
              "        vertical-align: top;\n",
              "    }\n",
              "\n",
              "    .dataframe thead th {\n",
              "        text-align: right;\n",
              "    }\n",
              "</style>\n",
              "<table border=\"1\" class=\"dataframe\">\n",
              "  <thead>\n",
              "    <tr style=\"text-align: right;\">\n",
              "      <th></th>\n",
              "      <th>name</th>\n",
              "    </tr>\n",
              "  </thead>\n",
              "  <tbody>\n",
              "    <tr>\n",
              "      <th>1</th>\n",
              "      <td>Jumanji (1995)</td>\n",
              "    </tr>\n",
              "    <tr>\n",
              "      <th>642</th>\n",
              "      <td>Mission: Impossible (1996)</td>\n",
              "    </tr>\n",
              "    <tr>\n",
              "      <th>1219</th>\n",
              "      <td>Local Hero (1983)</td>\n",
              "    </tr>\n",
              "    <tr>\n",
              "      <th>1236</th>\n",
              "      <td>Duck Soup (1933)</td>\n",
              "    </tr>\n",
              "    <tr>\n",
              "      <th>1263</th>\n",
              "      <td>High Noon (1952)</td>\n",
              "    </tr>\n",
              "    <tr>\n",
              "      <th>1899</th>\n",
              "      <td>Breakfast Club, The (1985)</td>\n",
              "    </tr>\n",
              "    <tr>\n",
              "      <th>2011</th>\n",
              "      <td>Lady and the Tramp (1955)</td>\n",
              "    </tr>\n",
              "    <tr>\n",
              "      <th>2031</th>\n",
              "      <td>Splash (1984)</td>\n",
              "    </tr>\n",
              "    <tr>\n",
              "      <th>2124</th>\n",
              "      <td>Willow (1988)</td>\n",
              "    </tr>\n",
              "    <tr>\n",
              "      <th>2719</th>\n",
              "      <td>And Now for Something Completely Different (1971)</td>\n",
              "    </tr>\n",
              "    <tr>\n",
              "      <th>2728</th>\n",
              "      <td>Big (1988)</td>\n",
              "    </tr>\n",
              "    <tr>\n",
              "      <th>3352</th>\n",
              "      <td>Animal House (1978)</td>\n",
              "    </tr>\n",
              "  </tbody>\n",
              "</table>\n",
              "</div>"
            ],
            "text/plain": [
              "                                                   name\n",
              "1                                        Jumanji (1995)\n",
              "642                          Mission: Impossible (1996)\n",
              "1219                                  Local Hero (1983)\n",
              "1236                                   Duck Soup (1933)\n",
              "1263                                   High Noon (1952)\n",
              "1899                         Breakfast Club, The (1985)\n",
              "2011                          Lady and the Tramp (1955)\n",
              "2031                                      Splash (1984)\n",
              "2124                                      Willow (1988)\n",
              "2719  And Now for Something Completely Different (1971)\n",
              "2728                                         Big (1988)\n",
              "3352                                Animal House (1978)"
            ]
          },
          "metadata": {
            "tags": []
          },
          "execution_count": 99
        }
      ]
    }
  ]
}