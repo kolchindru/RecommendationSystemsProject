{
  "nbformat": 4,
  "nbformat_minor": 0,
  "metadata": {
    "colab": {
      "name": "A_for_NLA_project.ipynb",
      "provenance": [],
      "collapsed_sections": [],
      "toc_visible": true
    },
    "kernelspec": {
      "name": "python3",
      "display_name": "Python 3"
    },
    "widgets": {
      "application/vnd.jupyter.widget-state+json": {
        "aafd0e41a6f8441cb6b0d8c55aa5e6be": {
          "model_module": "@jupyter-widgets/controls",
          "model_name": "HBoxModel",
          "state": {
            "_view_name": "HBoxView",
            "_dom_classes": [],
            "_model_name": "HBoxModel",
            "_view_module": "@jupyter-widgets/controls",
            "_model_module_version": "1.5.0",
            "_view_count": null,
            "_view_module_version": "1.5.0",
            "box_style": "",
            "layout": "IPY_MODEL_ad2576d423354c318ffce381f315efe0",
            "_model_module": "@jupyter-widgets/controls",
            "children": [
              "IPY_MODEL_5ff5b3c801624991aabe75f93034290b",
              "IPY_MODEL_7cf21e26ab004d138d5883d166941f27"
            ]
          }
        },
        "ad2576d423354c318ffce381f315efe0": {
          "model_module": "@jupyter-widgets/base",
          "model_name": "LayoutModel",
          "state": {
            "_view_name": "LayoutView",
            "grid_template_rows": null,
            "right": null,
            "justify_content": null,
            "_view_module": "@jupyter-widgets/base",
            "overflow": null,
            "_model_module_version": "1.2.0",
            "_view_count": null,
            "flex_flow": null,
            "width": null,
            "min_width": null,
            "border": null,
            "align_items": null,
            "bottom": null,
            "_model_module": "@jupyter-widgets/base",
            "top": null,
            "grid_column": null,
            "overflow_y": null,
            "overflow_x": null,
            "grid_auto_flow": null,
            "grid_area": null,
            "grid_template_columns": null,
            "flex": null,
            "_model_name": "LayoutModel",
            "justify_items": null,
            "grid_row": null,
            "max_height": null,
            "align_content": null,
            "visibility": null,
            "align_self": null,
            "height": null,
            "min_height": null,
            "padding": null,
            "grid_auto_rows": null,
            "grid_gap": null,
            "max_width": null,
            "order": null,
            "_view_module_version": "1.2.0",
            "grid_template_areas": null,
            "object_position": null,
            "object_fit": null,
            "grid_auto_columns": null,
            "margin": null,
            "display": null,
            "left": null
          }
        },
        "5ff5b3c801624991aabe75f93034290b": {
          "model_module": "@jupyter-widgets/controls",
          "model_name": "FloatProgressModel",
          "state": {
            "_view_name": "ProgressView",
            "style": "IPY_MODEL_f3c788e8797a4a16a351ff034edf412f",
            "_dom_classes": [],
            "description": "100%",
            "_model_name": "FloatProgressModel",
            "bar_style": "success",
            "max": 6040,
            "_view_module": "@jupyter-widgets/controls",
            "_model_module_version": "1.5.0",
            "value": 6040,
            "_view_count": null,
            "_view_module_version": "1.5.0",
            "orientation": "horizontal",
            "min": 0,
            "description_tooltip": null,
            "_model_module": "@jupyter-widgets/controls",
            "layout": "IPY_MODEL_1f842a739af84b2c90689f602d8ef59e"
          }
        },
        "7cf21e26ab004d138d5883d166941f27": {
          "model_module": "@jupyter-widgets/controls",
          "model_name": "HTMLModel",
          "state": {
            "_view_name": "HTMLView",
            "style": "IPY_MODEL_655759c1b7a64790ad73a3924990c7b8",
            "_dom_classes": [],
            "description": "",
            "_model_name": "HTMLModel",
            "placeholder": "​",
            "_view_module": "@jupyter-widgets/controls",
            "_model_module_version": "1.5.0",
            "value": " 6040/6040 [00:23&lt;00:00, 257.04it/s]",
            "_view_count": null,
            "_view_module_version": "1.5.0",
            "description_tooltip": null,
            "_model_module": "@jupyter-widgets/controls",
            "layout": "IPY_MODEL_4c6ab657c6e04019b5004abfcc168691"
          }
        },
        "f3c788e8797a4a16a351ff034edf412f": {
          "model_module": "@jupyter-widgets/controls",
          "model_name": "ProgressStyleModel",
          "state": {
            "_view_name": "StyleView",
            "_model_name": "ProgressStyleModel",
            "description_width": "initial",
            "_view_module": "@jupyter-widgets/base",
            "_model_module_version": "1.5.0",
            "_view_count": null,
            "_view_module_version": "1.2.0",
            "bar_color": null,
            "_model_module": "@jupyter-widgets/controls"
          }
        },
        "1f842a739af84b2c90689f602d8ef59e": {
          "model_module": "@jupyter-widgets/base",
          "model_name": "LayoutModel",
          "state": {
            "_view_name": "LayoutView",
            "grid_template_rows": null,
            "right": null,
            "justify_content": null,
            "_view_module": "@jupyter-widgets/base",
            "overflow": null,
            "_model_module_version": "1.2.0",
            "_view_count": null,
            "flex_flow": null,
            "width": null,
            "min_width": null,
            "border": null,
            "align_items": null,
            "bottom": null,
            "_model_module": "@jupyter-widgets/base",
            "top": null,
            "grid_column": null,
            "overflow_y": null,
            "overflow_x": null,
            "grid_auto_flow": null,
            "grid_area": null,
            "grid_template_columns": null,
            "flex": null,
            "_model_name": "LayoutModel",
            "justify_items": null,
            "grid_row": null,
            "max_height": null,
            "align_content": null,
            "visibility": null,
            "align_self": null,
            "height": null,
            "min_height": null,
            "padding": null,
            "grid_auto_rows": null,
            "grid_gap": null,
            "max_width": null,
            "order": null,
            "_view_module_version": "1.2.0",
            "grid_template_areas": null,
            "object_position": null,
            "object_fit": null,
            "grid_auto_columns": null,
            "margin": null,
            "display": null,
            "left": null
          }
        },
        "655759c1b7a64790ad73a3924990c7b8": {
          "model_module": "@jupyter-widgets/controls",
          "model_name": "DescriptionStyleModel",
          "state": {
            "_view_name": "StyleView",
            "_model_name": "DescriptionStyleModel",
            "description_width": "",
            "_view_module": "@jupyter-widgets/base",
            "_model_module_version": "1.5.0",
            "_view_count": null,
            "_view_module_version": "1.2.0",
            "_model_module": "@jupyter-widgets/controls"
          }
        },
        "4c6ab657c6e04019b5004abfcc168691": {
          "model_module": "@jupyter-widgets/base",
          "model_name": "LayoutModel",
          "state": {
            "_view_name": "LayoutView",
            "grid_template_rows": null,
            "right": null,
            "justify_content": null,
            "_view_module": "@jupyter-widgets/base",
            "overflow": null,
            "_model_module_version": "1.2.0",
            "_view_count": null,
            "flex_flow": null,
            "width": null,
            "min_width": null,
            "border": null,
            "align_items": null,
            "bottom": null,
            "_model_module": "@jupyter-widgets/base",
            "top": null,
            "grid_column": null,
            "overflow_y": null,
            "overflow_x": null,
            "grid_auto_flow": null,
            "grid_area": null,
            "grid_template_columns": null,
            "flex": null,
            "_model_name": "LayoutModel",
            "justify_items": null,
            "grid_row": null,
            "max_height": null,
            "align_content": null,
            "visibility": null,
            "align_self": null,
            "height": null,
            "min_height": null,
            "padding": null,
            "grid_auto_rows": null,
            "grid_gap": null,
            "max_width": null,
            "order": null,
            "_view_module_version": "1.2.0",
            "grid_template_areas": null,
            "object_position": null,
            "object_fit": null,
            "grid_auto_columns": null,
            "margin": null,
            "display": null,
            "left": null
          }
        },
        "dc1497cff6194979815a460491c15551": {
          "model_module": "@jupyter-widgets/controls",
          "model_name": "HBoxModel",
          "state": {
            "_view_name": "HBoxView",
            "_dom_classes": [],
            "_model_name": "HBoxModel",
            "_view_module": "@jupyter-widgets/controls",
            "_model_module_version": "1.5.0",
            "_view_count": null,
            "_view_module_version": "1.5.0",
            "box_style": "",
            "layout": "IPY_MODEL_7dbd1b381d004f83ab1e33483d077c2e",
            "_model_module": "@jupyter-widgets/controls",
            "children": [
              "IPY_MODEL_75518c5d721046d387aacf3014f6ec62",
              "IPY_MODEL_4ceda4f75ab04303a49e9fe2e7f833af"
            ]
          }
        },
        "7dbd1b381d004f83ab1e33483d077c2e": {
          "model_module": "@jupyter-widgets/base",
          "model_name": "LayoutModel",
          "state": {
            "_view_name": "LayoutView",
            "grid_template_rows": null,
            "right": null,
            "justify_content": null,
            "_view_module": "@jupyter-widgets/base",
            "overflow": null,
            "_model_module_version": "1.2.0",
            "_view_count": null,
            "flex_flow": null,
            "width": null,
            "min_width": null,
            "border": null,
            "align_items": null,
            "bottom": null,
            "_model_module": "@jupyter-widgets/base",
            "top": null,
            "grid_column": null,
            "overflow_y": null,
            "overflow_x": null,
            "grid_auto_flow": null,
            "grid_area": null,
            "grid_template_columns": null,
            "flex": null,
            "_model_name": "LayoutModel",
            "justify_items": null,
            "grid_row": null,
            "max_height": null,
            "align_content": null,
            "visibility": null,
            "align_self": null,
            "height": null,
            "min_height": null,
            "padding": null,
            "grid_auto_rows": null,
            "grid_gap": null,
            "max_width": null,
            "order": null,
            "_view_module_version": "1.2.0",
            "grid_template_areas": null,
            "object_position": null,
            "object_fit": null,
            "grid_auto_columns": null,
            "margin": null,
            "display": null,
            "left": null
          }
        },
        "75518c5d721046d387aacf3014f6ec62": {
          "model_module": "@jupyter-widgets/controls",
          "model_name": "FloatProgressModel",
          "state": {
            "_view_name": "ProgressView",
            "style": "IPY_MODEL_1f35b3190f724ca797964b496929a984",
            "_dom_classes": [],
            "description": "100%",
            "_model_name": "FloatProgressModel",
            "bar_style": "success",
            "max": 6040,
            "_view_module": "@jupyter-widgets/controls",
            "_model_module_version": "1.5.0",
            "value": 6040,
            "_view_count": null,
            "_view_module_version": "1.5.0",
            "orientation": "horizontal",
            "min": 0,
            "description_tooltip": null,
            "_model_module": "@jupyter-widgets/controls",
            "layout": "IPY_MODEL_66869581463540acae926a591114ebfd"
          }
        },
        "4ceda4f75ab04303a49e9fe2e7f833af": {
          "model_module": "@jupyter-widgets/controls",
          "model_name": "HTMLModel",
          "state": {
            "_view_name": "HTMLView",
            "style": "IPY_MODEL_4d43182f9b844858963bbd4723de27e3",
            "_dom_classes": [],
            "description": "",
            "_model_name": "HTMLModel",
            "placeholder": "​",
            "_view_module": "@jupyter-widgets/controls",
            "_model_module_version": "1.5.0",
            "value": " 6040/6040 [1:09:01&lt;00:00,  1.46it/s]",
            "_view_count": null,
            "_view_module_version": "1.5.0",
            "description_tooltip": null,
            "_model_module": "@jupyter-widgets/controls",
            "layout": "IPY_MODEL_f00fb032a473477da1badecbfdd75f9f"
          }
        },
        "1f35b3190f724ca797964b496929a984": {
          "model_module": "@jupyter-widgets/controls",
          "model_name": "ProgressStyleModel",
          "state": {
            "_view_name": "StyleView",
            "_model_name": "ProgressStyleModel",
            "description_width": "initial",
            "_view_module": "@jupyter-widgets/base",
            "_model_module_version": "1.5.0",
            "_view_count": null,
            "_view_module_version": "1.2.0",
            "bar_color": null,
            "_model_module": "@jupyter-widgets/controls"
          }
        },
        "66869581463540acae926a591114ebfd": {
          "model_module": "@jupyter-widgets/base",
          "model_name": "LayoutModel",
          "state": {
            "_view_name": "LayoutView",
            "grid_template_rows": null,
            "right": null,
            "justify_content": null,
            "_view_module": "@jupyter-widgets/base",
            "overflow": null,
            "_model_module_version": "1.2.0",
            "_view_count": null,
            "flex_flow": null,
            "width": null,
            "min_width": null,
            "border": null,
            "align_items": null,
            "bottom": null,
            "_model_module": "@jupyter-widgets/base",
            "top": null,
            "grid_column": null,
            "overflow_y": null,
            "overflow_x": null,
            "grid_auto_flow": null,
            "grid_area": null,
            "grid_template_columns": null,
            "flex": null,
            "_model_name": "LayoutModel",
            "justify_items": null,
            "grid_row": null,
            "max_height": null,
            "align_content": null,
            "visibility": null,
            "align_self": null,
            "height": null,
            "min_height": null,
            "padding": null,
            "grid_auto_rows": null,
            "grid_gap": null,
            "max_width": null,
            "order": null,
            "_view_module_version": "1.2.0",
            "grid_template_areas": null,
            "object_position": null,
            "object_fit": null,
            "grid_auto_columns": null,
            "margin": null,
            "display": null,
            "left": null
          }
        },
        "4d43182f9b844858963bbd4723de27e3": {
          "model_module": "@jupyter-widgets/controls",
          "model_name": "DescriptionStyleModel",
          "state": {
            "_view_name": "StyleView",
            "_model_name": "DescriptionStyleModel",
            "description_width": "",
            "_view_module": "@jupyter-widgets/base",
            "_model_module_version": "1.5.0",
            "_view_count": null,
            "_view_module_version": "1.2.0",
            "_model_module": "@jupyter-widgets/controls"
          }
        },
        "f00fb032a473477da1badecbfdd75f9f": {
          "model_module": "@jupyter-widgets/base",
          "model_name": "LayoutModel",
          "state": {
            "_view_name": "LayoutView",
            "grid_template_rows": null,
            "right": null,
            "justify_content": null,
            "_view_module": "@jupyter-widgets/base",
            "overflow": null,
            "_model_module_version": "1.2.0",
            "_view_count": null,
            "flex_flow": null,
            "width": null,
            "min_width": null,
            "border": null,
            "align_items": null,
            "bottom": null,
            "_model_module": "@jupyter-widgets/base",
            "top": null,
            "grid_column": null,
            "overflow_y": null,
            "overflow_x": null,
            "grid_auto_flow": null,
            "grid_area": null,
            "grid_template_columns": null,
            "flex": null,
            "_model_name": "LayoutModel",
            "justify_items": null,
            "grid_row": null,
            "max_height": null,
            "align_content": null,
            "visibility": null,
            "align_self": null,
            "height": null,
            "min_height": null,
            "padding": null,
            "grid_auto_rows": null,
            "grid_gap": null,
            "max_width": null,
            "order": null,
            "_view_module_version": "1.2.0",
            "grid_template_areas": null,
            "object_position": null,
            "object_fit": null,
            "grid_auto_columns": null,
            "margin": null,
            "display": null,
            "left": null
          }
        }
      }
    }
  },
  "cells": [
    {
      "cell_type": "markdown",
      "metadata": {
        "id": "GdkZldHRUwGJ"
      },
      "source": [
        "# Part I. Prepare data"
      ]
    },
    {
      "cell_type": "code",
      "metadata": {
        "colab": {
          "base_uri": "https://localhost:8080/"
        },
        "id": "1beq38S-SKgj",
        "outputId": "7a0e3a5b-550d-486c-e64f-f8af57f43c4b"
      },
      "source": [
        "from google.colab import drive\n",
        "drive.mount('/content/drive')"
      ],
      "execution_count": null,
      "outputs": [
        {
          "output_type": "stream",
          "text": [
            "Mounted at /content/drive\n"
          ],
          "name": "stdout"
        }
      ]
    },
    {
      "cell_type": "code",
      "metadata": {
        "id": "QchHQpgZScOz"
      },
      "source": [
        "import numpy as np\n",
        "import pandas as pd\n",
        "import os\n",
        "\n",
        "# Read files\n",
        "\n",
        "path_folder = '/content/drive/MyDrive/Sk/NLA/Project/RecommendationSystemsProject/files/'\n",
        "\n",
        "ratings_path = os.path.join(path_folder, 'ratings.dat')\n",
        "movies_path = os.path.join(path_folder, 'movies.dat')\n",
        "users_path = os.path.join(path_folder, 'users.dat')\n",
        "\n",
        "rating_data = pd.io.parsers.read_csv(ratings_path, \n",
        "    names=['user_id', 'movie_id', 'rating', 'time'],\n",
        "    engine='python', delimiter='::')\n",
        "\n",
        "movie_data = pd.io.parsers.read_csv(movies_path,\n",
        "    names=['movie_id', 'title', 'genre'],\n",
        "    engine='python', delimiter='::')"
      ],
      "execution_count": 1,
      "outputs": []
    },
    {
      "cell_type": "markdown",
      "metadata": {
        "id": "bjIEGygfVyQ-"
      },
      "source": [
        "### 1. User $\\times$ Item $\\times$ Month (from 1 to 12)"
      ]
    },
    {
      "cell_type": "code",
      "metadata": {
        "id": "rq1z0nwcVPu0",
        "colab": {
          "base_uri": "https://localhost:8080/",
          "height": 406
        },
        "outputId": "aac61162-13cf-4478-d79f-f39f9d62131d"
      },
      "source": [
        "# construct tensor I here\n",
        "import datetime\n",
        "\n",
        "rating_data['date'] = pd.to_datetime(rating_data['time'], unit='s', origin='unix')\n",
        "rating_data['year'] = rating_data['date'].apply(lambda x: x.year)\n",
        "rating_data['month'] = rating_data['date'].apply(lambda x: x.month)\n",
        "\n",
        "\n",
        "rating_data.sort_values(by='date')"
      ],
      "execution_count": 2,
      "outputs": [
        {
          "output_type": "execute_result",
          "data": {
            "text/html": [
              "<div>\n",
              "<style scoped>\n",
              "    .dataframe tbody tr th:only-of-type {\n",
              "        vertical-align: middle;\n",
              "    }\n",
              "\n",
              "    .dataframe tbody tr th {\n",
              "        vertical-align: top;\n",
              "    }\n",
              "\n",
              "    .dataframe thead th {\n",
              "        text-align: right;\n",
              "    }\n",
              "</style>\n",
              "<table border=\"1\" class=\"dataframe\">\n",
              "  <thead>\n",
              "    <tr style=\"text-align: right;\">\n",
              "      <th></th>\n",
              "      <th>user_id</th>\n",
              "      <th>movie_id</th>\n",
              "      <th>rating</th>\n",
              "      <th>time</th>\n",
              "      <th>date</th>\n",
              "      <th>year</th>\n",
              "      <th>month</th>\n",
              "    </tr>\n",
              "  </thead>\n",
              "  <tbody>\n",
              "    <tr>\n",
              "      <th>1000138</th>\n",
              "      <td>6040</td>\n",
              "      <td>858</td>\n",
              "      <td>4</td>\n",
              "      <td>956703932</td>\n",
              "      <td>2000-04-25 23:05:32</td>\n",
              "      <td>2000</td>\n",
              "      <td>4</td>\n",
              "    </tr>\n",
              "    <tr>\n",
              "      <th>1000153</th>\n",
              "      <td>6040</td>\n",
              "      <td>2384</td>\n",
              "      <td>4</td>\n",
              "      <td>956703954</td>\n",
              "      <td>2000-04-25 23:05:54</td>\n",
              "      <td>2000</td>\n",
              "      <td>4</td>\n",
              "    </tr>\n",
              "    <tr>\n",
              "      <th>999873</th>\n",
              "      <td>6040</td>\n",
              "      <td>593</td>\n",
              "      <td>5</td>\n",
              "      <td>956703954</td>\n",
              "      <td>2000-04-25 23:05:54</td>\n",
              "      <td>2000</td>\n",
              "      <td>4</td>\n",
              "    </tr>\n",
              "    <tr>\n",
              "      <th>1000007</th>\n",
              "      <td>6040</td>\n",
              "      <td>1961</td>\n",
              "      <td>4</td>\n",
              "      <td>956703977</td>\n",
              "      <td>2000-04-25 23:06:17</td>\n",
              "      <td>2000</td>\n",
              "      <td>4</td>\n",
              "    </tr>\n",
              "    <tr>\n",
              "      <th>1000192</th>\n",
              "      <td>6040</td>\n",
              "      <td>2019</td>\n",
              "      <td>5</td>\n",
              "      <td>956703977</td>\n",
              "      <td>2000-04-25 23:06:17</td>\n",
              "      <td>2000</td>\n",
              "      <td>4</td>\n",
              "    </tr>\n",
              "    <tr>\n",
              "      <th>...</th>\n",
              "      <td>...</td>\n",
              "      <td>...</td>\n",
              "      <td>...</td>\n",
              "      <td>...</td>\n",
              "      <td>...</td>\n",
              "      <td>...</td>\n",
              "      <td>...</td>\n",
              "    </tr>\n",
              "    <tr>\n",
              "      <th>825793</th>\n",
              "      <td>4958</td>\n",
              "      <td>2399</td>\n",
              "      <td>1</td>\n",
              "      <td>1046454338</td>\n",
              "      <td>2003-02-28 17:45:38</td>\n",
              "      <td>2003</td>\n",
              "      <td>2</td>\n",
              "    </tr>\n",
              "    <tr>\n",
              "      <th>825438</th>\n",
              "      <td>4958</td>\n",
              "      <td>1407</td>\n",
              "      <td>5</td>\n",
              "      <td>1046454443</td>\n",
              "      <td>2003-02-28 17:47:23</td>\n",
              "      <td>2003</td>\n",
              "      <td>2</td>\n",
              "    </tr>\n",
              "    <tr>\n",
              "      <th>825724</th>\n",
              "      <td>4958</td>\n",
              "      <td>3264</td>\n",
              "      <td>4</td>\n",
              "      <td>1046454548</td>\n",
              "      <td>2003-02-28 17:49:08</td>\n",
              "      <td>2003</td>\n",
              "      <td>2</td>\n",
              "    </tr>\n",
              "    <tr>\n",
              "      <th>825731</th>\n",
              "      <td>4958</td>\n",
              "      <td>2634</td>\n",
              "      <td>3</td>\n",
              "      <td>1046454548</td>\n",
              "      <td>2003-02-28 17:49:08</td>\n",
              "      <td>2003</td>\n",
              "      <td>2</td>\n",
              "    </tr>\n",
              "    <tr>\n",
              "      <th>825603</th>\n",
              "      <td>4958</td>\n",
              "      <td>1924</td>\n",
              "      <td>4</td>\n",
              "      <td>1046454590</td>\n",
              "      <td>2003-02-28 17:49:50</td>\n",
              "      <td>2003</td>\n",
              "      <td>2</td>\n",
              "    </tr>\n",
              "  </tbody>\n",
              "</table>\n",
              "<p>1000209 rows × 7 columns</p>\n",
              "</div>"
            ],
            "text/plain": [
              "         user_id  movie_id  rating        time                date  year  month\n",
              "1000138     6040       858       4   956703932 2000-04-25 23:05:32  2000      4\n",
              "1000153     6040      2384       4   956703954 2000-04-25 23:05:54  2000      4\n",
              "999873      6040       593       5   956703954 2000-04-25 23:05:54  2000      4\n",
              "1000007     6040      1961       4   956703977 2000-04-25 23:06:17  2000      4\n",
              "1000192     6040      2019       5   956703977 2000-04-25 23:06:17  2000      4\n",
              "...          ...       ...     ...         ...                 ...   ...    ...\n",
              "825793      4958      2399       1  1046454338 2003-02-28 17:45:38  2003      2\n",
              "825438      4958      1407       5  1046454443 2003-02-28 17:47:23  2003      2\n",
              "825724      4958      3264       4  1046454548 2003-02-28 17:49:08  2003      2\n",
              "825731      4958      2634       3  1046454548 2003-02-28 17:49:08  2003      2\n",
              "825603      4958      1924       4  1046454590 2003-02-28 17:49:50  2003      2\n",
              "\n",
              "[1000209 rows x 7 columns]"
            ]
          },
          "metadata": {
            "tags": []
          },
          "execution_count": 2
        }
      ]
    },
    {
      "cell_type": "code",
      "metadata": {
        "id": "kzoJFIB37-Vu",
        "colab": {
          "base_uri": "https://localhost:8080/",
          "height": 304
        },
        "outputId": "34bea660-ef3e-4aa9-ea22-f5473be12ab5"
      },
      "source": [
        "user_item_month = rating_data[['user_id', 'month', 'movie_id']]\n",
        "user_item_month['binary'] = np.ones(user_item_month.shape[0], dtype=np.int8)\n",
        "user_item_month = user_item_month.sort_values(by=['user_id', 'movie_id'])\n",
        "user_item_month.head()"
      ],
      "execution_count": 3,
      "outputs": [
        {
          "output_type": "stream",
          "text": [
            "/usr/local/lib/python3.6/dist-packages/ipykernel_launcher.py:2: SettingWithCopyWarning: \n",
            "A value is trying to be set on a copy of a slice from a DataFrame.\n",
            "Try using .loc[row_indexer,col_indexer] = value instead\n",
            "\n",
            "See the caveats in the documentation: https://pandas.pydata.org/pandas-docs/stable/user_guide/indexing.html#returning-a-view-versus-a-copy\n",
            "  \n"
          ],
          "name": "stderr"
        },
        {
          "output_type": "execute_result",
          "data": {
            "text/html": [
              "<div>\n",
              "<style scoped>\n",
              "    .dataframe tbody tr th:only-of-type {\n",
              "        vertical-align: middle;\n",
              "    }\n",
              "\n",
              "    .dataframe tbody tr th {\n",
              "        vertical-align: top;\n",
              "    }\n",
              "\n",
              "    .dataframe thead th {\n",
              "        text-align: right;\n",
              "    }\n",
              "</style>\n",
              "<table border=\"1\" class=\"dataframe\">\n",
              "  <thead>\n",
              "    <tr style=\"text-align: right;\">\n",
              "      <th></th>\n",
              "      <th>user_id</th>\n",
              "      <th>month</th>\n",
              "      <th>movie_id</th>\n",
              "      <th>binary</th>\n",
              "    </tr>\n",
              "  </thead>\n",
              "  <tbody>\n",
              "    <tr>\n",
              "      <th>40</th>\n",
              "      <td>1</td>\n",
              "      <td>1</td>\n",
              "      <td>1</td>\n",
              "      <td>1</td>\n",
              "    </tr>\n",
              "    <tr>\n",
              "      <th>25</th>\n",
              "      <td>1</td>\n",
              "      <td>1</td>\n",
              "      <td>48</td>\n",
              "      <td>1</td>\n",
              "    </tr>\n",
              "    <tr>\n",
              "      <th>39</th>\n",
              "      <td>1</td>\n",
              "      <td>12</td>\n",
              "      <td>150</td>\n",
              "      <td>1</td>\n",
              "    </tr>\n",
              "    <tr>\n",
              "      <th>44</th>\n",
              "      <td>1</td>\n",
              "      <td>12</td>\n",
              "      <td>260</td>\n",
              "      <td>1</td>\n",
              "    </tr>\n",
              "    <tr>\n",
              "      <th>23</th>\n",
              "      <td>1</td>\n",
              "      <td>1</td>\n",
              "      <td>527</td>\n",
              "      <td>1</td>\n",
              "    </tr>\n",
              "  </tbody>\n",
              "</table>\n",
              "</div>"
            ],
            "text/plain": [
              "    user_id  month  movie_id  binary\n",
              "40        1      1         1       1\n",
              "25        1      1        48       1\n",
              "39        1     12       150       1\n",
              "44        1     12       260       1\n",
              "23        1      1       527       1"
            ]
          },
          "metadata": {
            "tags": []
          },
          "execution_count": 3
        }
      ]
    },
    {
      "cell_type": "code",
      "metadata": {
        "id": "wzCZC2V07-PG",
        "colab": {
          "base_uri": "https://localhost:8080/"
        },
        "outputId": "3f7c9c76-04ba-4cf9-c506-e925f3e33716"
      },
      "source": [
        "all_movies = np.sort(user_item_month.movie_id.unique())\n",
        "all_movies"
      ],
      "execution_count": 4,
      "outputs": [
        {
          "output_type": "execute_result",
          "data": {
            "text/plain": [
              "array([   1,    2,    3, ..., 3950, 3951, 3952])"
            ]
          },
          "metadata": {
            "tags": []
          },
          "execution_count": 4
        }
      ]
    },
    {
      "cell_type": "code",
      "metadata": {
        "id": "CB4ijepl7-Ig",
        "colab": {
          "base_uri": "https://localhost:8080/",
          "height": 120,
          "referenced_widgets": [
            "aafd0e41a6f8441cb6b0d8c55aa5e6be",
            "ad2576d423354c318ffce381f315efe0",
            "5ff5b3c801624991aabe75f93034290b",
            "7cf21e26ab004d138d5883d166941f27",
            "f3c788e8797a4a16a351ff034edf412f",
            "1f842a739af84b2c90689f602d8ef59e",
            "655759c1b7a64790ad73a3924990c7b8",
            "4c6ab657c6e04019b5004abfcc168691"
          ]
        },
        "outputId": "bb18e1c6-3a7f-426c-c124-f83d8ecdb74b"
      },
      "source": [
        "from tqdm import tqdm_notebook\n",
        "\n",
        "extra_movies = []\n",
        "users = user_item_month.user_id.unique()\n",
        "\n",
        "for user in tqdm_notebook(users):\n",
        "    current_user_frame = user_item_month[user_item_month['user_id'] == user]\n",
        "    movies_user = current_user_frame['movie_id'].unique()\n",
        "\n",
        "    add_movies = np.array(list(set(all_movies) - set(movies_user)))\n",
        "    qty_movies = add_movies.shape[0]\n",
        "\n",
        "    user_rate = np.tile([user, 1], qty_movies).reshape(qty_movies, 2)\n",
        "    binary_col = np.zeros(qty_movies, dtype=np.int8)[:, None]\n",
        "\n",
        "    res_frame = np.hstack((user_rate, add_movies[:, None], binary_col))\n",
        "    extra_movies.append(res_frame)"
      ],
      "execution_count": 5,
      "outputs": [
        {
          "output_type": "stream",
          "text": [
            "/usr/local/lib/python3.6/dist-packages/ipykernel_launcher.py:6: TqdmDeprecationWarning: This function will be removed in tqdm==5.0.0\n",
            "Please use `tqdm.notebook.tqdm` instead of `tqdm.tqdm_notebook`\n",
            "  \n"
          ],
          "name": "stderr"
        },
        {
          "output_type": "display_data",
          "data": {
            "application/vnd.jupyter.widget-view+json": {
              "model_id": "aafd0e41a6f8441cb6b0d8c55aa5e6be",
              "version_minor": 0,
              "version_major": 2
            },
            "text/plain": [
              "HBox(children=(FloatProgress(value=0.0, max=6040.0), HTML(value='')))"
            ]
          },
          "metadata": {
            "tags": []
          }
        },
        {
          "output_type": "stream",
          "text": [
            "\n"
          ],
          "name": "stdout"
        }
      ]
    },
    {
      "cell_type": "code",
      "metadata": {
        "id": "XmBQQ9l07-Av",
        "colab": {
          "base_uri": "https://localhost:8080/",
          "height": 406
        },
        "outputId": "62c2e6b8-b409-4e28-dc2b-4ec0cfe02a9a"
      },
      "source": [
        "extra_frame = pd.DataFrame(np.vstack(extra_movies), columns=['user_id', 'month', 'movie_id', 'binary'])\n",
        "\n",
        "extra_frame"
      ],
      "execution_count": 6,
      "outputs": [
        {
          "output_type": "execute_result",
          "data": {
            "text/html": [
              "<div>\n",
              "<style scoped>\n",
              "    .dataframe tbody tr th:only-of-type {\n",
              "        vertical-align: middle;\n",
              "    }\n",
              "\n",
              "    .dataframe tbody tr th {\n",
              "        vertical-align: top;\n",
              "    }\n",
              "\n",
              "    .dataframe thead th {\n",
              "        text-align: right;\n",
              "    }\n",
              "</style>\n",
              "<table border=\"1\" class=\"dataframe\">\n",
              "  <thead>\n",
              "    <tr style=\"text-align: right;\">\n",
              "      <th></th>\n",
              "      <th>user_id</th>\n",
              "      <th>month</th>\n",
              "      <th>movie_id</th>\n",
              "      <th>binary</th>\n",
              "    </tr>\n",
              "  </thead>\n",
              "  <tbody>\n",
              "    <tr>\n",
              "      <th>0</th>\n",
              "      <td>1</td>\n",
              "      <td>1</td>\n",
              "      <td>2</td>\n",
              "      <td>0</td>\n",
              "    </tr>\n",
              "    <tr>\n",
              "      <th>1</th>\n",
              "      <td>1</td>\n",
              "      <td>1</td>\n",
              "      <td>3</td>\n",
              "      <td>0</td>\n",
              "    </tr>\n",
              "    <tr>\n",
              "      <th>2</th>\n",
              "      <td>1</td>\n",
              "      <td>1</td>\n",
              "      <td>4</td>\n",
              "      <td>0</td>\n",
              "    </tr>\n",
              "    <tr>\n",
              "      <th>3</th>\n",
              "      <td>1</td>\n",
              "      <td>1</td>\n",
              "      <td>5</td>\n",
              "      <td>0</td>\n",
              "    </tr>\n",
              "    <tr>\n",
              "      <th>4</th>\n",
              "      <td>1</td>\n",
              "      <td>1</td>\n",
              "      <td>6</td>\n",
              "      <td>0</td>\n",
              "    </tr>\n",
              "    <tr>\n",
              "      <th>...</th>\n",
              "      <td>...</td>\n",
              "      <td>...</td>\n",
              "      <td>...</td>\n",
              "      <td>...</td>\n",
              "    </tr>\n",
              "    <tr>\n",
              "      <th>21384026</th>\n",
              "      <td>6040</td>\n",
              "      <td>1</td>\n",
              "      <td>3948</td>\n",
              "      <td>0</td>\n",
              "    </tr>\n",
              "    <tr>\n",
              "      <th>21384027</th>\n",
              "      <td>6040</td>\n",
              "      <td>1</td>\n",
              "      <td>3949</td>\n",
              "      <td>0</td>\n",
              "    </tr>\n",
              "    <tr>\n",
              "      <th>21384028</th>\n",
              "      <td>6040</td>\n",
              "      <td>1</td>\n",
              "      <td>3950</td>\n",
              "      <td>0</td>\n",
              "    </tr>\n",
              "    <tr>\n",
              "      <th>21384029</th>\n",
              "      <td>6040</td>\n",
              "      <td>1</td>\n",
              "      <td>3951</td>\n",
              "      <td>0</td>\n",
              "    </tr>\n",
              "    <tr>\n",
              "      <th>21384030</th>\n",
              "      <td>6040</td>\n",
              "      <td>1</td>\n",
              "      <td>3952</td>\n",
              "      <td>0</td>\n",
              "    </tr>\n",
              "  </tbody>\n",
              "</table>\n",
              "<p>21384031 rows × 4 columns</p>\n",
              "</div>"
            ],
            "text/plain": [
              "          user_id  month  movie_id  binary\n",
              "0               1      1         2       0\n",
              "1               1      1         3       0\n",
              "2               1      1         4       0\n",
              "3               1      1         5       0\n",
              "4               1      1         6       0\n",
              "...           ...    ...       ...     ...\n",
              "21384026     6040      1      3948       0\n",
              "21384027     6040      1      3949       0\n",
              "21384028     6040      1      3950       0\n",
              "21384029     6040      1      3951       0\n",
              "21384030     6040      1      3952       0\n",
              "\n",
              "[21384031 rows x 4 columns]"
            ]
          },
          "metadata": {
            "tags": []
          },
          "execution_count": 6
        }
      ]
    },
    {
      "cell_type": "code",
      "metadata": {
        "id": "XIUiXvAjQmKW"
      },
      "source": [
        "data_uim = pd.concat((user_item_month, extra_frame))"
      ],
      "execution_count": 7,
      "outputs": []
    },
    {
      "cell_type": "code",
      "metadata": {
        "colab": {
          "base_uri": "https://localhost:8080/",
          "height": 406
        },
        "id": "BGxZdkWxQmTD",
        "outputId": "dd7ab0bd-4c3a-4d71-9b84-45569fe9beae"
      },
      "source": [
        "data_uim"
      ],
      "execution_count": 8,
      "outputs": [
        {
          "output_type": "execute_result",
          "data": {
            "text/html": [
              "<div>\n",
              "<style scoped>\n",
              "    .dataframe tbody tr th:only-of-type {\n",
              "        vertical-align: middle;\n",
              "    }\n",
              "\n",
              "    .dataframe tbody tr th {\n",
              "        vertical-align: top;\n",
              "    }\n",
              "\n",
              "    .dataframe thead th {\n",
              "        text-align: right;\n",
              "    }\n",
              "</style>\n",
              "<table border=\"1\" class=\"dataframe\">\n",
              "  <thead>\n",
              "    <tr style=\"text-align: right;\">\n",
              "      <th></th>\n",
              "      <th>user_id</th>\n",
              "      <th>month</th>\n",
              "      <th>movie_id</th>\n",
              "      <th>binary</th>\n",
              "    </tr>\n",
              "  </thead>\n",
              "  <tbody>\n",
              "    <tr>\n",
              "      <th>40</th>\n",
              "      <td>1</td>\n",
              "      <td>1</td>\n",
              "      <td>1</td>\n",
              "      <td>1</td>\n",
              "    </tr>\n",
              "    <tr>\n",
              "      <th>25</th>\n",
              "      <td>1</td>\n",
              "      <td>1</td>\n",
              "      <td>48</td>\n",
              "      <td>1</td>\n",
              "    </tr>\n",
              "    <tr>\n",
              "      <th>39</th>\n",
              "      <td>1</td>\n",
              "      <td>12</td>\n",
              "      <td>150</td>\n",
              "      <td>1</td>\n",
              "    </tr>\n",
              "    <tr>\n",
              "      <th>44</th>\n",
              "      <td>1</td>\n",
              "      <td>12</td>\n",
              "      <td>260</td>\n",
              "      <td>1</td>\n",
              "    </tr>\n",
              "    <tr>\n",
              "      <th>23</th>\n",
              "      <td>1</td>\n",
              "      <td>1</td>\n",
              "      <td>527</td>\n",
              "      <td>1</td>\n",
              "    </tr>\n",
              "    <tr>\n",
              "      <th>...</th>\n",
              "      <td>...</td>\n",
              "      <td>...</td>\n",
              "      <td>...</td>\n",
              "      <td>...</td>\n",
              "    </tr>\n",
              "    <tr>\n",
              "      <th>21384026</th>\n",
              "      <td>6040</td>\n",
              "      <td>1</td>\n",
              "      <td>3948</td>\n",
              "      <td>0</td>\n",
              "    </tr>\n",
              "    <tr>\n",
              "      <th>21384027</th>\n",
              "      <td>6040</td>\n",
              "      <td>1</td>\n",
              "      <td>3949</td>\n",
              "      <td>0</td>\n",
              "    </tr>\n",
              "    <tr>\n",
              "      <th>21384028</th>\n",
              "      <td>6040</td>\n",
              "      <td>1</td>\n",
              "      <td>3950</td>\n",
              "      <td>0</td>\n",
              "    </tr>\n",
              "    <tr>\n",
              "      <th>21384029</th>\n",
              "      <td>6040</td>\n",
              "      <td>1</td>\n",
              "      <td>3951</td>\n",
              "      <td>0</td>\n",
              "    </tr>\n",
              "    <tr>\n",
              "      <th>21384030</th>\n",
              "      <td>6040</td>\n",
              "      <td>1</td>\n",
              "      <td>3952</td>\n",
              "      <td>0</td>\n",
              "    </tr>\n",
              "  </tbody>\n",
              "</table>\n",
              "<p>22384240 rows × 4 columns</p>\n",
              "</div>"
            ],
            "text/plain": [
              "          user_id  month  movie_id  binary\n",
              "40              1      1         1       1\n",
              "25              1      1        48       1\n",
              "39              1     12       150       1\n",
              "44              1     12       260       1\n",
              "23              1      1       527       1\n",
              "...           ...    ...       ...     ...\n",
              "21384026     6040      1      3948       0\n",
              "21384027     6040      1      3949       0\n",
              "21384028     6040      1      3950       0\n",
              "21384029     6040      1      3951       0\n",
              "21384030     6040      1      3952       0\n",
              "\n",
              "[22384240 rows x 4 columns]"
            ]
          },
          "metadata": {
            "tags": []
          },
          "execution_count": 8
        }
      ]
    },
    {
      "cell_type": "code",
      "metadata": {
        "colab": {
          "base_uri": "https://localhost:8080/"
        },
        "id": "s2ied6f9Qmcu",
        "outputId": "4ce2c75d-cac0-49d8-9970-83814355c6af"
      },
      "source": [
        "%%time\n",
        "\n",
        "uim_pivot = pd.pivot_table(data_uim, values='binary', index=['user_id', 'movie_id'],\n",
        "                    columns=['month'])"
      ],
      "execution_count": 9,
      "outputs": [
        {
          "output_type": "stream",
          "text": [
            "CPU times: user 28.1 s, sys: 7.09 s, total: 35.1 s\n",
            "Wall time: 35.2 s\n"
          ],
          "name": "stdout"
        }
      ]
    },
    {
      "cell_type": "code",
      "metadata": {
        "id": "LACNArk1QmkS"
      },
      "source": [
        "uim_pivot = uim_pivot.fillna(0)"
      ],
      "execution_count": 10,
      "outputs": []
    },
    {
      "cell_type": "code",
      "metadata": {
        "id": "yAkQ6PeR794U"
      },
      "source": [
        "num_of_users = rating_data.user_id.nunique()\n",
        "num_of_movies = rating_data.movie_id.nunique()\n",
        "num_of_months = rating_data.month.nunique()\n",
        "\n",
        "user_movie_month_array = uim_pivot.values.reshape(num_of_users, num_of_movies, num_of_months)"
      ],
      "execution_count": 14,
      "outputs": []
    },
    {
      "cell_type": "code",
      "metadata": {
        "id": "imil9g8wRbhJ"
      },
      "source": [
        "from scipy.sparse import csr_matrix, coo_matrix\n",
        "import torch\n",
        "\n",
        "sparse_user_movie_month = torch.tensor(user_movie_month_array).to_sparse()"
      ],
      "execution_count": 16,
      "outputs": []
    },
    {
      "cell_type": "code",
      "metadata": {
        "id": "zYRw6rPjRbpQ"
      },
      "source": [
        "torch.save(sparse_user_movie_month, 'sparse_user_movie_month.pt')"
      ],
      "execution_count": 17,
      "outputs": []
    },
    {
      "cell_type": "markdown",
      "metadata": {
        "id": "WWxWmAf0WCKe"
      },
      "source": [
        "### 2. User $\\times$ Item $\\times$ Rating (from 1 to 10)"
      ]
    },
    {
      "cell_type": "code",
      "metadata": {
        "id": "L4MyR6C8WK0G",
        "colab": {
          "base_uri": "https://localhost:8080/"
        },
        "outputId": "f972c787-adb0-4f26-ece2-055fe0633ead"
      },
      "source": [
        "# contruct tensor II here\n",
        "\n",
        "print(rating_data.rating.value_counts())\n",
        "rating_data.rating.max(), rating_data.rating.min()"
      ],
      "execution_count": null,
      "outputs": [
        {
          "output_type": "stream",
          "text": [
            "4    348971\n",
            "3    261197\n",
            "5    226310\n",
            "2    107557\n",
            "1     56174\n",
            "Name: rating, dtype: int64\n"
          ],
          "name": "stdout"
        },
        {
          "output_type": "execute_result",
          "data": {
            "text/plain": [
              "(5, 1)"
            ]
          },
          "metadata": {
            "tags": []
          },
          "execution_count": 3
        }
      ]
    },
    {
      "cell_type": "code",
      "metadata": {
        "colab": {
          "base_uri": "https://localhost:8080/",
          "height": 406
        },
        "id": "xpMNp8ONUIaI",
        "outputId": "d54e5f01-3f0d-4c35-fef2-34753d64e324"
      },
      "source": [
        "import datetime\n",
        "\n",
        "rating_data['date'] = pd.to_datetime(rating_data['time'], unit='s', origin='unix')\n",
        "rating_data['year'] = rating_data['date'].apply(lambda x: x.year)\n",
        "rating_data['month'] = rating_data['date'].apply(lambda x: x.month)\n",
        "\n",
        "\n",
        "rating_data.sort_values(by='date')"
      ],
      "execution_count": null,
      "outputs": [
        {
          "output_type": "execute_result",
          "data": {
            "text/html": [
              "<div>\n",
              "<style scoped>\n",
              "    .dataframe tbody tr th:only-of-type {\n",
              "        vertical-align: middle;\n",
              "    }\n",
              "\n",
              "    .dataframe tbody tr th {\n",
              "        vertical-align: top;\n",
              "    }\n",
              "\n",
              "    .dataframe thead th {\n",
              "        text-align: right;\n",
              "    }\n",
              "</style>\n",
              "<table border=\"1\" class=\"dataframe\">\n",
              "  <thead>\n",
              "    <tr style=\"text-align: right;\">\n",
              "      <th></th>\n",
              "      <th>user_id</th>\n",
              "      <th>movie_id</th>\n",
              "      <th>rating</th>\n",
              "      <th>time</th>\n",
              "      <th>date</th>\n",
              "      <th>year</th>\n",
              "      <th>month</th>\n",
              "    </tr>\n",
              "  </thead>\n",
              "  <tbody>\n",
              "    <tr>\n",
              "      <th>1000138</th>\n",
              "      <td>6040</td>\n",
              "      <td>858</td>\n",
              "      <td>4</td>\n",
              "      <td>956703932</td>\n",
              "      <td>2000-04-25 23:05:32</td>\n",
              "      <td>2000</td>\n",
              "      <td>4</td>\n",
              "    </tr>\n",
              "    <tr>\n",
              "      <th>1000153</th>\n",
              "      <td>6040</td>\n",
              "      <td>2384</td>\n",
              "      <td>4</td>\n",
              "      <td>956703954</td>\n",
              "      <td>2000-04-25 23:05:54</td>\n",
              "      <td>2000</td>\n",
              "      <td>4</td>\n",
              "    </tr>\n",
              "    <tr>\n",
              "      <th>999873</th>\n",
              "      <td>6040</td>\n",
              "      <td>593</td>\n",
              "      <td>5</td>\n",
              "      <td>956703954</td>\n",
              "      <td>2000-04-25 23:05:54</td>\n",
              "      <td>2000</td>\n",
              "      <td>4</td>\n",
              "    </tr>\n",
              "    <tr>\n",
              "      <th>1000007</th>\n",
              "      <td>6040</td>\n",
              "      <td>1961</td>\n",
              "      <td>4</td>\n",
              "      <td>956703977</td>\n",
              "      <td>2000-04-25 23:06:17</td>\n",
              "      <td>2000</td>\n",
              "      <td>4</td>\n",
              "    </tr>\n",
              "    <tr>\n",
              "      <th>1000192</th>\n",
              "      <td>6040</td>\n",
              "      <td>2019</td>\n",
              "      <td>5</td>\n",
              "      <td>956703977</td>\n",
              "      <td>2000-04-25 23:06:17</td>\n",
              "      <td>2000</td>\n",
              "      <td>4</td>\n",
              "    </tr>\n",
              "    <tr>\n",
              "      <th>...</th>\n",
              "      <td>...</td>\n",
              "      <td>...</td>\n",
              "      <td>...</td>\n",
              "      <td>...</td>\n",
              "      <td>...</td>\n",
              "      <td>...</td>\n",
              "      <td>...</td>\n",
              "    </tr>\n",
              "    <tr>\n",
              "      <th>825793</th>\n",
              "      <td>4958</td>\n",
              "      <td>2399</td>\n",
              "      <td>1</td>\n",
              "      <td>1046454338</td>\n",
              "      <td>2003-02-28 17:45:38</td>\n",
              "      <td>2003</td>\n",
              "      <td>2</td>\n",
              "    </tr>\n",
              "    <tr>\n",
              "      <th>825438</th>\n",
              "      <td>4958</td>\n",
              "      <td>1407</td>\n",
              "      <td>5</td>\n",
              "      <td>1046454443</td>\n",
              "      <td>2003-02-28 17:47:23</td>\n",
              "      <td>2003</td>\n",
              "      <td>2</td>\n",
              "    </tr>\n",
              "    <tr>\n",
              "      <th>825724</th>\n",
              "      <td>4958</td>\n",
              "      <td>3264</td>\n",
              "      <td>4</td>\n",
              "      <td>1046454548</td>\n",
              "      <td>2003-02-28 17:49:08</td>\n",
              "      <td>2003</td>\n",
              "      <td>2</td>\n",
              "    </tr>\n",
              "    <tr>\n",
              "      <th>825731</th>\n",
              "      <td>4958</td>\n",
              "      <td>2634</td>\n",
              "      <td>3</td>\n",
              "      <td>1046454548</td>\n",
              "      <td>2003-02-28 17:49:08</td>\n",
              "      <td>2003</td>\n",
              "      <td>2</td>\n",
              "    </tr>\n",
              "    <tr>\n",
              "      <th>825603</th>\n",
              "      <td>4958</td>\n",
              "      <td>1924</td>\n",
              "      <td>4</td>\n",
              "      <td>1046454590</td>\n",
              "      <td>2003-02-28 17:49:50</td>\n",
              "      <td>2003</td>\n",
              "      <td>2</td>\n",
              "    </tr>\n",
              "  </tbody>\n",
              "</table>\n",
              "<p>1000209 rows × 7 columns</p>\n",
              "</div>"
            ],
            "text/plain": [
              "         user_id  movie_id  rating        time                date  year  month\n",
              "1000138     6040       858       4   956703932 2000-04-25 23:05:32  2000      4\n",
              "1000153     6040      2384       4   956703954 2000-04-25 23:05:54  2000      4\n",
              "999873      6040       593       5   956703954 2000-04-25 23:05:54  2000      4\n",
              "1000007     6040      1961       4   956703977 2000-04-25 23:06:17  2000      4\n",
              "1000192     6040      2019       5   956703977 2000-04-25 23:06:17  2000      4\n",
              "...          ...       ...     ...         ...                 ...   ...    ...\n",
              "825793      4958      2399       1  1046454338 2003-02-28 17:45:38  2003      2\n",
              "825438      4958      1407       5  1046454443 2003-02-28 17:47:23  2003      2\n",
              "825724      4958      3264       4  1046454548 2003-02-28 17:49:08  2003      2\n",
              "825731      4958      2634       3  1046454548 2003-02-28 17:49:08  2003      2\n",
              "825603      4958      1924       4  1046454590 2003-02-28 17:49:50  2003      2\n",
              "\n",
              "[1000209 rows x 7 columns]"
            ]
          },
          "metadata": {
            "tags": []
          },
          "execution_count": 4
        }
      ]
    },
    {
      "cell_type": "code",
      "metadata": {
        "colab": {
          "base_uri": "https://localhost:8080/"
        },
        "id": "9u_sOGhpegdB",
        "outputId": "29d80d3a-077f-4a09-eb5a-462750a54183"
      },
      "source": [
        "rating_data.user_id.nunique(),  rating_data.rating.nunique(), rating_data.movie_id.nunique()"
      ],
      "execution_count": null,
      "outputs": [
        {
          "output_type": "execute_result",
          "data": {
            "text/plain": [
              "(6040, 5, 3706)"
            ]
          },
          "metadata": {
            "tags": []
          },
          "execution_count": 5
        }
      ]
    },
    {
      "cell_type": "code",
      "metadata": {
        "colab": {
          "base_uri": "https://localhost:8080/",
          "height": 304
        },
        "id": "F13W91_fhpwt",
        "outputId": "eaa453f5-cc00-4027-8963-fb74bb3d392c"
      },
      "source": [
        "user_item_rat = rating_data[['user_id', 'rating', 'movie_id']]\n",
        "user_item_rat['binary'] = np.ones(user_item_rat.shape[0], dtype=np.int8)\n",
        "user_item_rat = user_item_rat.sort_values(by=['user_id', 'movie_id'])\n",
        "user_item_rat.head()"
      ],
      "execution_count": null,
      "outputs": [
        {
          "output_type": "stream",
          "text": [
            "/usr/local/lib/python3.6/dist-packages/ipykernel_launcher.py:2: SettingWithCopyWarning: \n",
            "A value is trying to be set on a copy of a slice from a DataFrame.\n",
            "Try using .loc[row_indexer,col_indexer] = value instead\n",
            "\n",
            "See the caveats in the documentation: https://pandas.pydata.org/pandas-docs/stable/user_guide/indexing.html#returning-a-view-versus-a-copy\n",
            "  \n"
          ],
          "name": "stderr"
        },
        {
          "output_type": "execute_result",
          "data": {
            "text/html": [
              "<div>\n",
              "<style scoped>\n",
              "    .dataframe tbody tr th:only-of-type {\n",
              "        vertical-align: middle;\n",
              "    }\n",
              "\n",
              "    .dataframe tbody tr th {\n",
              "        vertical-align: top;\n",
              "    }\n",
              "\n",
              "    .dataframe thead th {\n",
              "        text-align: right;\n",
              "    }\n",
              "</style>\n",
              "<table border=\"1\" class=\"dataframe\">\n",
              "  <thead>\n",
              "    <tr style=\"text-align: right;\">\n",
              "      <th></th>\n",
              "      <th>user_id</th>\n",
              "      <th>rating</th>\n",
              "      <th>movie_id</th>\n",
              "      <th>binary</th>\n",
              "    </tr>\n",
              "  </thead>\n",
              "  <tbody>\n",
              "    <tr>\n",
              "      <th>40</th>\n",
              "      <td>1</td>\n",
              "      <td>5</td>\n",
              "      <td>1</td>\n",
              "      <td>1</td>\n",
              "    </tr>\n",
              "    <tr>\n",
              "      <th>25</th>\n",
              "      <td>1</td>\n",
              "      <td>5</td>\n",
              "      <td>48</td>\n",
              "      <td>1</td>\n",
              "    </tr>\n",
              "    <tr>\n",
              "      <th>39</th>\n",
              "      <td>1</td>\n",
              "      <td>5</td>\n",
              "      <td>150</td>\n",
              "      <td>1</td>\n",
              "    </tr>\n",
              "    <tr>\n",
              "      <th>44</th>\n",
              "      <td>1</td>\n",
              "      <td>4</td>\n",
              "      <td>260</td>\n",
              "      <td>1</td>\n",
              "    </tr>\n",
              "    <tr>\n",
              "      <th>23</th>\n",
              "      <td>1</td>\n",
              "      <td>5</td>\n",
              "      <td>527</td>\n",
              "      <td>1</td>\n",
              "    </tr>\n",
              "  </tbody>\n",
              "</table>\n",
              "</div>"
            ],
            "text/plain": [
              "    user_id  rating  movie_id  binary\n",
              "40        1       5         1       1\n",
              "25        1       5        48       1\n",
              "39        1       5       150       1\n",
              "44        1       4       260       1\n",
              "23        1       5       527       1"
            ]
          },
          "metadata": {
            "tags": []
          },
          "execution_count": 6
        }
      ]
    },
    {
      "cell_type": "code",
      "metadata": {
        "colab": {
          "base_uri": "https://localhost:8080/"
        },
        "id": "53g42jbNj948",
        "outputId": "81ef1c3a-af2f-4ae7-8cdf-06e6b73d77e2"
      },
      "source": [
        "user_item_rat[['user_id', 'movie_id']].groupby(['user_id'])['movie_id'].value_counts().sort_values()"
      ],
      "execution_count": null,
      "outputs": [
        {
          "output_type": "execute_result",
          "data": {
            "text/plain": [
              "user_id  movie_id\n",
              "1        1           1\n",
              "4013     3697        1\n",
              "         3698        1\n",
              "         3699        1\n",
              "         3705        1\n",
              "                    ..\n",
              "1968     1641        1\n",
              "         1644        1\n",
              "         1645        1\n",
              "         1672        1\n",
              "6040     3819        1\n",
              "Name: movie_id, Length: 1000209, dtype: int64"
            ]
          },
          "metadata": {
            "tags": []
          },
          "execution_count": 7
        }
      ]
    },
    {
      "cell_type": "code",
      "metadata": {
        "colab": {
          "base_uri": "https://localhost:8080/"
        },
        "id": "5r3p4DS7kJso",
        "outputId": "988e2838-b38c-4460-c996-e115ef7accbd"
      },
      "source": [
        "all_movies = np.sort(user_item_rat.movie_id.unique())\n",
        "all_movies"
      ],
      "execution_count": null,
      "outputs": [
        {
          "output_type": "execute_result",
          "data": {
            "text/plain": [
              "array([   1,    2,    3, ..., 3950, 3951, 3952])"
            ]
          },
          "metadata": {
            "tags": []
          },
          "execution_count": 8
        }
      ]
    },
    {
      "cell_type": "code",
      "metadata": {
        "colab": {
          "base_uri": "https://localhost:8080/",
          "height": 120,
          "referenced_widgets": [
            "dc1497cff6194979815a460491c15551",
            "7dbd1b381d004f83ab1e33483d077c2e",
            "75518c5d721046d387aacf3014f6ec62",
            "4ceda4f75ab04303a49e9fe2e7f833af",
            "1f35b3190f724ca797964b496929a984",
            "66869581463540acae926a591114ebfd",
            "4d43182f9b844858963bbd4723de27e3",
            "f00fb032a473477da1badecbfdd75f9f"
          ]
        },
        "id": "0pv0vCWWkuw4",
        "outputId": "29c5addb-6c5e-452d-8838-583582232ef4"
      },
      "source": [
        "from tqdm import tqdm_notebook\n",
        "\n",
        "extra_movies = []\n",
        "users = user_item_rat.user_id.unique()\n",
        "\n",
        "for user in tqdm_notebook(users):\n",
        "    current_user_frame = user_item_rat[user_item_rat['user_id'] == user]\n",
        "    movies_user = current_user_frame['movie_id'].unique()\n",
        "\n",
        "    add_movies = np.array(list(set(all_movies) - set(movies_user)))\n",
        "    qty_movies = add_movies.shape[0]\n",
        "\n",
        "    user_rate = np.tile([user, 1], qty_movies).reshape(qty_movies, 2)\n",
        "    binary_col = np.zeros(qty_movies, dtype=np.int8)[:, None]\n",
        "\n",
        "    res_frame = np.hstack((user_rate, add_movies[:, None], binary_col))\n",
        "    extra_movies.append(res_frame)"
      ],
      "execution_count": null,
      "outputs": [
        {
          "output_type": "stream",
          "text": [
            "/usr/local/lib/python3.6/dist-packages/ipykernel_launcher.py:6: TqdmDeprecationWarning: This function will be removed in tqdm==5.0.0\n",
            "Please use `tqdm.notebook.tqdm` instead of `tqdm.tqdm_notebook`\n",
            "  \n"
          ],
          "name": "stderr"
        },
        {
          "output_type": "display_data",
          "data": {
            "application/vnd.jupyter.widget-view+json": {
              "model_id": "dc1497cff6194979815a460491c15551",
              "version_minor": 0,
              "version_major": 2
            },
            "text/plain": [
              "HBox(children=(FloatProgress(value=0.0, max=6040.0), HTML(value='')))"
            ]
          },
          "metadata": {
            "tags": []
          }
        },
        {
          "output_type": "stream",
          "text": [
            "\n"
          ],
          "name": "stdout"
        }
      ]
    },
    {
      "cell_type": "code",
      "metadata": {
        "colab": {
          "base_uri": "https://localhost:8080/",
          "height": 406
        },
        "id": "uGAjkC8xn9_r",
        "outputId": "8552479a-1870-413b-dddc-c56b6abacaca"
      },
      "source": [
        "extra_frame = pd.DataFrame(np.vstack(extra_movies), columns=['user_id', 'rating', 'movie_id', 'binary'])\n",
        "\n",
        "extra_frame"
      ],
      "execution_count": null,
      "outputs": [
        {
          "output_type": "execute_result",
          "data": {
            "text/html": [
              "<div>\n",
              "<style scoped>\n",
              "    .dataframe tbody tr th:only-of-type {\n",
              "        vertical-align: middle;\n",
              "    }\n",
              "\n",
              "    .dataframe tbody tr th {\n",
              "        vertical-align: top;\n",
              "    }\n",
              "\n",
              "    .dataframe thead th {\n",
              "        text-align: right;\n",
              "    }\n",
              "</style>\n",
              "<table border=\"1\" class=\"dataframe\">\n",
              "  <thead>\n",
              "    <tr style=\"text-align: right;\">\n",
              "      <th></th>\n",
              "      <th>user_id</th>\n",
              "      <th>rating</th>\n",
              "      <th>movie_id</th>\n",
              "      <th>binary</th>\n",
              "    </tr>\n",
              "  </thead>\n",
              "  <tbody>\n",
              "    <tr>\n",
              "      <th>0</th>\n",
              "      <td>1</td>\n",
              "      <td>1</td>\n",
              "      <td>2</td>\n",
              "      <td>0</td>\n",
              "    </tr>\n",
              "    <tr>\n",
              "      <th>1</th>\n",
              "      <td>1</td>\n",
              "      <td>1</td>\n",
              "      <td>3</td>\n",
              "      <td>0</td>\n",
              "    </tr>\n",
              "    <tr>\n",
              "      <th>2</th>\n",
              "      <td>1</td>\n",
              "      <td>1</td>\n",
              "      <td>4</td>\n",
              "      <td>0</td>\n",
              "    </tr>\n",
              "    <tr>\n",
              "      <th>3</th>\n",
              "      <td>1</td>\n",
              "      <td>1</td>\n",
              "      <td>5</td>\n",
              "      <td>0</td>\n",
              "    </tr>\n",
              "    <tr>\n",
              "      <th>4</th>\n",
              "      <td>1</td>\n",
              "      <td>1</td>\n",
              "      <td>6</td>\n",
              "      <td>0</td>\n",
              "    </tr>\n",
              "    <tr>\n",
              "      <th>...</th>\n",
              "      <td>...</td>\n",
              "      <td>...</td>\n",
              "      <td>...</td>\n",
              "      <td>...</td>\n",
              "    </tr>\n",
              "    <tr>\n",
              "      <th>21384026</th>\n",
              "      <td>6040</td>\n",
              "      <td>1</td>\n",
              "      <td>3948</td>\n",
              "      <td>0</td>\n",
              "    </tr>\n",
              "    <tr>\n",
              "      <th>21384027</th>\n",
              "      <td>6040</td>\n",
              "      <td>1</td>\n",
              "      <td>3949</td>\n",
              "      <td>0</td>\n",
              "    </tr>\n",
              "    <tr>\n",
              "      <th>21384028</th>\n",
              "      <td>6040</td>\n",
              "      <td>1</td>\n",
              "      <td>3950</td>\n",
              "      <td>0</td>\n",
              "    </tr>\n",
              "    <tr>\n",
              "      <th>21384029</th>\n",
              "      <td>6040</td>\n",
              "      <td>1</td>\n",
              "      <td>3951</td>\n",
              "      <td>0</td>\n",
              "    </tr>\n",
              "    <tr>\n",
              "      <th>21384030</th>\n",
              "      <td>6040</td>\n",
              "      <td>1</td>\n",
              "      <td>3952</td>\n",
              "      <td>0</td>\n",
              "    </tr>\n",
              "  </tbody>\n",
              "</table>\n",
              "<p>21384031 rows × 4 columns</p>\n",
              "</div>"
            ],
            "text/plain": [
              "          user_id  rating  movie_id  binary\n",
              "0               1       1         2       0\n",
              "1               1       1         3       0\n",
              "2               1       1         4       0\n",
              "3               1       1         5       0\n",
              "4               1       1         6       0\n",
              "...           ...     ...       ...     ...\n",
              "21384026     6040       1      3948       0\n",
              "21384027     6040       1      3949       0\n",
              "21384028     6040       1      3950       0\n",
              "21384029     6040       1      3951       0\n",
              "21384030     6040       1      3952       0\n",
              "\n",
              "[21384031 rows x 4 columns]"
            ]
          },
          "metadata": {
            "tags": []
          },
          "execution_count": 10
        }
      ]
    },
    {
      "cell_type": "code",
      "metadata": {
        "id": "p1AAU2QvoWvC"
      },
      "source": [
        "data_uir = pd.concat((user_item_rat, extra_frame))"
      ],
      "execution_count": null,
      "outputs": []
    },
    {
      "cell_type": "code",
      "metadata": {
        "colab": {
          "base_uri": "https://localhost:8080/",
          "height": 406
        },
        "id": "isDhLQXdo4Si",
        "outputId": "c83a6b8f-392d-4f9e-efc5-c2e5f58c1684"
      },
      "source": [
        "data_uir"
      ],
      "execution_count": null,
      "outputs": [
        {
          "output_type": "execute_result",
          "data": {
            "text/html": [
              "<div>\n",
              "<style scoped>\n",
              "    .dataframe tbody tr th:only-of-type {\n",
              "        vertical-align: middle;\n",
              "    }\n",
              "\n",
              "    .dataframe tbody tr th {\n",
              "        vertical-align: top;\n",
              "    }\n",
              "\n",
              "    .dataframe thead th {\n",
              "        text-align: right;\n",
              "    }\n",
              "</style>\n",
              "<table border=\"1\" class=\"dataframe\">\n",
              "  <thead>\n",
              "    <tr style=\"text-align: right;\">\n",
              "      <th></th>\n",
              "      <th>user_id</th>\n",
              "      <th>rating</th>\n",
              "      <th>movie_id</th>\n",
              "      <th>binary</th>\n",
              "    </tr>\n",
              "  </thead>\n",
              "  <tbody>\n",
              "    <tr>\n",
              "      <th>40</th>\n",
              "      <td>1</td>\n",
              "      <td>5</td>\n",
              "      <td>1</td>\n",
              "      <td>1</td>\n",
              "    </tr>\n",
              "    <tr>\n",
              "      <th>25</th>\n",
              "      <td>1</td>\n",
              "      <td>5</td>\n",
              "      <td>48</td>\n",
              "      <td>1</td>\n",
              "    </tr>\n",
              "    <tr>\n",
              "      <th>39</th>\n",
              "      <td>1</td>\n",
              "      <td>5</td>\n",
              "      <td>150</td>\n",
              "      <td>1</td>\n",
              "    </tr>\n",
              "    <tr>\n",
              "      <th>44</th>\n",
              "      <td>1</td>\n",
              "      <td>4</td>\n",
              "      <td>260</td>\n",
              "      <td>1</td>\n",
              "    </tr>\n",
              "    <tr>\n",
              "      <th>23</th>\n",
              "      <td>1</td>\n",
              "      <td>5</td>\n",
              "      <td>527</td>\n",
              "      <td>1</td>\n",
              "    </tr>\n",
              "    <tr>\n",
              "      <th>...</th>\n",
              "      <td>...</td>\n",
              "      <td>...</td>\n",
              "      <td>...</td>\n",
              "      <td>...</td>\n",
              "    </tr>\n",
              "    <tr>\n",
              "      <th>21384026</th>\n",
              "      <td>6040</td>\n",
              "      <td>1</td>\n",
              "      <td>3948</td>\n",
              "      <td>0</td>\n",
              "    </tr>\n",
              "    <tr>\n",
              "      <th>21384027</th>\n",
              "      <td>6040</td>\n",
              "      <td>1</td>\n",
              "      <td>3949</td>\n",
              "      <td>0</td>\n",
              "    </tr>\n",
              "    <tr>\n",
              "      <th>21384028</th>\n",
              "      <td>6040</td>\n",
              "      <td>1</td>\n",
              "      <td>3950</td>\n",
              "      <td>0</td>\n",
              "    </tr>\n",
              "    <tr>\n",
              "      <th>21384029</th>\n",
              "      <td>6040</td>\n",
              "      <td>1</td>\n",
              "      <td>3951</td>\n",
              "      <td>0</td>\n",
              "    </tr>\n",
              "    <tr>\n",
              "      <th>21384030</th>\n",
              "      <td>6040</td>\n",
              "      <td>1</td>\n",
              "      <td>3952</td>\n",
              "      <td>0</td>\n",
              "    </tr>\n",
              "  </tbody>\n",
              "</table>\n",
              "<p>22384240 rows × 4 columns</p>\n",
              "</div>"
            ],
            "text/plain": [
              "          user_id  rating  movie_id  binary\n",
              "40              1       5         1       1\n",
              "25              1       5        48       1\n",
              "39              1       5       150       1\n",
              "44              1       4       260       1\n",
              "23              1       5       527       1\n",
              "...           ...     ...       ...     ...\n",
              "21384026     6040       1      3948       0\n",
              "21384027     6040       1      3949       0\n",
              "21384028     6040       1      3950       0\n",
              "21384029     6040       1      3951       0\n",
              "21384030     6040       1      3952       0\n",
              "\n",
              "[22384240 rows x 4 columns]"
            ]
          },
          "metadata": {
            "tags": []
          },
          "execution_count": 14
        }
      ]
    },
    {
      "cell_type": "code",
      "metadata": {
        "id": "T9oy233aW5ji",
        "colab": {
          "base_uri": "https://localhost:8080/"
        },
        "outputId": "e7108b46-655d-47e3-e60e-69cbae1f50f0"
      },
      "source": [
        "%%time\n",
        "\n",
        "uir_pivot = pd.pivot_table(data_uir, values='binary', index=['user_id', 'movie_id'],\n",
        "                    columns=['rating'])"
      ],
      "execution_count": null,
      "outputs": [
        {
          "output_type": "stream",
          "text": [
            "CPU times: user 22 s, sys: 1.86 s, total: 23.8 s\n",
            "Wall time: 23.8 s\n"
          ],
          "name": "stdout"
        }
      ]
    },
    {
      "cell_type": "code",
      "metadata": {
        "id": "BUs2B50sqJK3"
      },
      "source": [
        "uir_pivot = uir_pivot.fillna(0)"
      ],
      "execution_count": null,
      "outputs": []
    },
    {
      "cell_type": "code",
      "metadata": {
        "colab": {
          "base_uri": "https://localhost:8080/",
          "height": 436
        },
        "id": "RSntO7vJqSIP",
        "outputId": "f88d6599-5a95-42d7-b1ee-c20df097e512"
      },
      "source": [
        "uir_pivot"
      ],
      "execution_count": null,
      "outputs": [
        {
          "output_type": "execute_result",
          "data": {
            "text/html": [
              "<div>\n",
              "<style scoped>\n",
              "    .dataframe tbody tr th:only-of-type {\n",
              "        vertical-align: middle;\n",
              "    }\n",
              "\n",
              "    .dataframe tbody tr th {\n",
              "        vertical-align: top;\n",
              "    }\n",
              "\n",
              "    .dataframe thead th {\n",
              "        text-align: right;\n",
              "    }\n",
              "</style>\n",
              "<table border=\"1\" class=\"dataframe\">\n",
              "  <thead>\n",
              "    <tr style=\"text-align: right;\">\n",
              "      <th></th>\n",
              "      <th>rating</th>\n",
              "      <th>1</th>\n",
              "      <th>2</th>\n",
              "      <th>3</th>\n",
              "      <th>4</th>\n",
              "      <th>5</th>\n",
              "    </tr>\n",
              "    <tr>\n",
              "      <th>user_id</th>\n",
              "      <th>movie_id</th>\n",
              "      <th></th>\n",
              "      <th></th>\n",
              "      <th></th>\n",
              "      <th></th>\n",
              "      <th></th>\n",
              "    </tr>\n",
              "  </thead>\n",
              "  <tbody>\n",
              "    <tr>\n",
              "      <th rowspan=\"5\" valign=\"top\">1</th>\n",
              "      <th>1</th>\n",
              "      <td>0.0</td>\n",
              "      <td>0.0</td>\n",
              "      <td>0.0</td>\n",
              "      <td>0.0</td>\n",
              "      <td>1.0</td>\n",
              "    </tr>\n",
              "    <tr>\n",
              "      <th>2</th>\n",
              "      <td>0.0</td>\n",
              "      <td>0.0</td>\n",
              "      <td>0.0</td>\n",
              "      <td>0.0</td>\n",
              "      <td>0.0</td>\n",
              "    </tr>\n",
              "    <tr>\n",
              "      <th>3</th>\n",
              "      <td>0.0</td>\n",
              "      <td>0.0</td>\n",
              "      <td>0.0</td>\n",
              "      <td>0.0</td>\n",
              "      <td>0.0</td>\n",
              "    </tr>\n",
              "    <tr>\n",
              "      <th>4</th>\n",
              "      <td>0.0</td>\n",
              "      <td>0.0</td>\n",
              "      <td>0.0</td>\n",
              "      <td>0.0</td>\n",
              "      <td>0.0</td>\n",
              "    </tr>\n",
              "    <tr>\n",
              "      <th>5</th>\n",
              "      <td>0.0</td>\n",
              "      <td>0.0</td>\n",
              "      <td>0.0</td>\n",
              "      <td>0.0</td>\n",
              "      <td>0.0</td>\n",
              "    </tr>\n",
              "    <tr>\n",
              "      <th>...</th>\n",
              "      <th>...</th>\n",
              "      <td>...</td>\n",
              "      <td>...</td>\n",
              "      <td>...</td>\n",
              "      <td>...</td>\n",
              "      <td>...</td>\n",
              "    </tr>\n",
              "    <tr>\n",
              "      <th rowspan=\"5\" valign=\"top\">6040</th>\n",
              "      <th>3948</th>\n",
              "      <td>0.0</td>\n",
              "      <td>0.0</td>\n",
              "      <td>0.0</td>\n",
              "      <td>0.0</td>\n",
              "      <td>0.0</td>\n",
              "    </tr>\n",
              "    <tr>\n",
              "      <th>3949</th>\n",
              "      <td>0.0</td>\n",
              "      <td>0.0</td>\n",
              "      <td>0.0</td>\n",
              "      <td>0.0</td>\n",
              "      <td>0.0</td>\n",
              "    </tr>\n",
              "    <tr>\n",
              "      <th>3950</th>\n",
              "      <td>0.0</td>\n",
              "      <td>0.0</td>\n",
              "      <td>0.0</td>\n",
              "      <td>0.0</td>\n",
              "      <td>0.0</td>\n",
              "    </tr>\n",
              "    <tr>\n",
              "      <th>3951</th>\n",
              "      <td>0.0</td>\n",
              "      <td>0.0</td>\n",
              "      <td>0.0</td>\n",
              "      <td>0.0</td>\n",
              "      <td>0.0</td>\n",
              "    </tr>\n",
              "    <tr>\n",
              "      <th>3952</th>\n",
              "      <td>0.0</td>\n",
              "      <td>0.0</td>\n",
              "      <td>0.0</td>\n",
              "      <td>0.0</td>\n",
              "      <td>0.0</td>\n",
              "    </tr>\n",
              "  </tbody>\n",
              "</table>\n",
              "<p>22384240 rows × 5 columns</p>\n",
              "</div>"
            ],
            "text/plain": [
              "rating              1    2    3    4    5\n",
              "user_id movie_id                         \n",
              "1       1         0.0  0.0  0.0  0.0  1.0\n",
              "        2         0.0  0.0  0.0  0.0  0.0\n",
              "        3         0.0  0.0  0.0  0.0  0.0\n",
              "        4         0.0  0.0  0.0  0.0  0.0\n",
              "        5         0.0  0.0  0.0  0.0  0.0\n",
              "...               ...  ...  ...  ...  ...\n",
              "6040    3948      0.0  0.0  0.0  0.0  0.0\n",
              "        3949      0.0  0.0  0.0  0.0  0.0\n",
              "        3950      0.0  0.0  0.0  0.0  0.0\n",
              "        3951      0.0  0.0  0.0  0.0  0.0\n",
              "        3952      0.0  0.0  0.0  0.0  0.0\n",
              "\n",
              "[22384240 rows x 5 columns]"
            ]
          },
          "metadata": {
            "tags": []
          },
          "execution_count": 17
        }
      ]
    },
    {
      "cell_type": "code",
      "metadata": {
        "id": "GKukMMBGqzuc"
      },
      "source": [
        "num_of_users = rating_data.user_id.nunique()\n",
        "num_of_movies = rating_data.rating.nunique()\n",
        "num_of_rates = rating_data.movie_id.nunique()\n",
        "\n",
        "user_movie_rate_array = uir_pivot.values.reshape(num_of_users, num_of_rates, num_of_movies)"
      ],
      "execution_count": null,
      "outputs": []
    },
    {
      "cell_type": "code",
      "metadata": {
        "id": "tScMSLAYtbfu"
      },
      "source": [
        "from scipy.sparse import csr_matrix, coo_matrix\n",
        "import torch\n",
        "\n",
        "sparse_user_movie_rate = torch.tensor(user_movie_rate_array).to_sparse()"
      ],
      "execution_count": null,
      "outputs": []
    },
    {
      "cell_type": "code",
      "metadata": {
        "id": "gO9XwZBZr4bl"
      },
      "source": [
        "torch.save(sparse_user_movie_rate, 'sparse_user_movie_rate.pt')"
      ],
      "execution_count": null,
      "outputs": []
    },
    {
      "cell_type": "markdown",
      "metadata": {
        "id": "ZgPnOIA5VQD2"
      },
      "source": [
        "# Part II. Decompose (more decompositions?)"
      ]
    },
    {
      "cell_type": "markdown",
      "metadata": {
        "id": "EAFzHF3fWNel"
      },
      "source": [
        "### 1.[ Tucker decomposition](http://tensorly.org/stable/user_guide/tensor_decomposition.html)"
      ]
    },
    {
      "cell_type": "code",
      "metadata": {
        "id": "NxS8lGuzWWxb"
      },
      "source": [
        "# decompose both tensors"
      ],
      "execution_count": null,
      "outputs": []
    },
    {
      "cell_type": "markdown",
      "metadata": {
        "id": "l8VUxF2lWX8N"
      },
      "source": [
        "### 2. [HOSVD decomposition](https://pytorch.org/docs/stable/generated/torch.svd.html) or [Lowrank HOSVD decomposition](https://pytorch.org/docs/stable/generated/torch.svd_lowrank.html)"
      ]
    },
    {
      "cell_type": "code",
      "metadata": {
        "id": "D9d5zz6FWhwl"
      },
      "source": [
        "# decompose both tensors"
      ],
      "execution_count": null,
      "outputs": []
    },
    {
      "cell_type": "markdown",
      "metadata": {
        "id": "3PHo3VjWWiyF"
      },
      "source": [
        "### 3. [Tensor train decomposition ](https://github.com/oseledets/TT-Toolbox)"
      ]
    },
    {
      "cell_type": "code",
      "metadata": {
        "id": "xpI8BqoxXCUF"
      },
      "source": [
        "# decompose both tensors"
      ],
      "execution_count": null,
      "outputs": []
    },
    {
      "cell_type": "markdown",
      "metadata": {
        "id": "DkgZmuDYbwXe"
      },
      "source": [
        "### Bonus: Use [Polara](https://github.com/evfro/polara)"
      ]
    },
    {
      "cell_type": "code",
      "metadata": {
        "id": "d8Ma8xKEb4xn"
      },
      "source": [
        "# use Polara"
      ],
      "execution_count": null,
      "outputs": []
    },
    {
      "cell_type": "markdown",
      "metadata": {
        "id": "ZIpNUzJHXUV1"
      },
      "source": [
        "# Part III. Recommend (no clue how to do it yet)"
      ]
    },
    {
      "cell_type": "code",
      "metadata": {
        "id": "t4nDe_SWYcRO"
      },
      "source": [
        "# time_metric\r\n",
        "# quality_metric"
      ],
      "execution_count": null,
      "outputs": []
    },
    {
      "cell_type": "code",
      "metadata": {
        "id": "Bu7cXYinYVo2"
      },
      "source": [
        "# Tensor 1: Tucker result metrics\r\n",
        "\r\n",
        "# Tensor 1: HOSVD result metrics\r\n",
        "\r\n",
        "# Tensor 1: Tensor train result metrics"
      ],
      "execution_count": null,
      "outputs": []
    },
    {
      "cell_type": "code",
      "metadata": {
        "id": "AyhNxha0YrDu"
      },
      "source": [
        "# Tensor 2: Tucker result metrics\r\n",
        "\r\n",
        "# Tensor 2: HOSVD result metrics\r\n",
        "\r\n",
        "# Tensor 2: Tensor train result metrics"
      ],
      "execution_count": null,
      "outputs": []
    },
    {
      "cell_type": "markdown",
      "metadata": {
        "id": "efBzLPmxYvUu"
      },
      "source": [
        "# Part IV. Visuals"
      ]
    },
    {
      "cell_type": "code",
      "metadata": {
        "id": "U6SMQGBVZAXV"
      },
      "source": [
        "# performance plot: Tucker vs HOSVD vs Tensor Train"
      ],
      "execution_count": null,
      "outputs": []
    },
    {
      "cell_type": "code",
      "metadata": {
        "id": "hfqjkWtUZGJu"
      },
      "source": [
        "# quality plot: \"Tensor 1: HOSVD\" vs \"Tensor 1: Tucker\" vs \"Tensor 1: TT\" vs \"Tensor 2: HOSVD\" vs \"Tensor 2: Tucker\" vs \"Tensor 2: TT\""
      ],
      "execution_count": null,
      "outputs": []
    }
  ]
}