{
  "nbformat": 4,
  "nbformat_minor": 0,
  "metadata": {
    "colab": {
      "name": "A for NLA project.ipynb",
      "provenance": [],
      "collapsed_sections": []
    },
    "kernelspec": {
      "name": "python3",
      "display_name": "Python 3"
    }
  },
  "cells": [
    {
      "cell_type": "markdown",
      "metadata": {
        "id": "GdkZldHRUwGJ"
      },
      "source": [
        "# Part I. Prepare data"
      ]
    },
    {
      "cell_type": "markdown",
      "metadata": {
        "id": "bjIEGygfVyQ-"
      },
      "source": [
        "### 1. User $\\times$ Item $\\times$ Month (from 1 to 12)"
      ]
    },
    {
      "cell_type": "code",
      "metadata": {
        "id": "rq1z0nwcVPu0"
      },
      "source": [
        "# construct tensor I here"
      ],
      "execution_count": null,
      "outputs": []
    },
    {
      "cell_type": "markdown",
      "metadata": {
        "id": "WWxWmAf0WCKe"
      },
      "source": [
        "### 2. User $\\times$ Item $\\times$ Rating (from 1 to 10)"
      ]
    },
    {
      "cell_type": "code",
      "metadata": {
        "id": "L4MyR6C8WK0G"
      },
      "source": [
        "# contruct tensor II here"
      ],
      "execution_count": null,
      "outputs": []
    },
    {
      "cell_type": "markdown",
      "metadata": {
        "id": "ZgPnOIA5VQD2"
      },
      "source": [
        "# Part II. Decompose (more decompositions?)"
      ]
    },
    {
      "cell_type": "markdown",
      "metadata": {
        "id": "EAFzHF3fWNel"
      },
      "source": [
        "### 1.[ Tucker decomposition](http://tensorly.org/stable/user_guide/tensor_decomposition.html)"
      ]
    },
    {
      "cell_type": "code",
      "metadata": {
        "id": "NxS8lGuzWWxb"
      },
      "source": [
        "# decompose both tensors"
      ],
      "execution_count": null,
      "outputs": []
    },
    {
      "cell_type": "markdown",
      "metadata": {
        "id": "l8VUxF2lWX8N"
      },
      "source": [
        "### 2. [HOSVD decomposition](https://pytorch.org/docs/stable/generated/torch.svd.html) or [Lowrank HOSVD decomposition](https://pytorch.org/docs/stable/generated/torch.svd_lowrank.html)"
      ]
    },
    {
      "cell_type": "code",
      "metadata": {
        "id": "D9d5zz6FWhwl"
      },
      "source": [
        "# decompose both tensors"
      ],
      "execution_count": null,
      "outputs": []
    },
    {
      "cell_type": "markdown",
      "metadata": {
        "id": "3PHo3VjWWiyF"
      },
      "source": [
        "### 3. [Tensor train decomposition ](https://github.com/oseledets/TT-Toolbox)"
      ]
    },
    {
      "cell_type": "code",
      "metadata": {
        "id": "xpI8BqoxXCUF"
      },
      "source": [
        "# decompose both tensors"
      ],
      "execution_count": null,
      "outputs": []
    },
    {
      "cell_type": "markdown",
      "metadata": {
        "id": "DkgZmuDYbwXe"
      },
      "source": [
        "### Bonus: Use [Polara](https://github.com/evfro/polara)"
      ]
    },
    {
      "cell_type": "code",
      "metadata": {
        "id": "d8Ma8xKEb4xn"
      },
      "source": [
        "# use Polara"
      ],
      "execution_count": null,
      "outputs": []
    },
    {
      "cell_type": "markdown",
      "metadata": {
        "id": "ZIpNUzJHXUV1"
      },
      "source": [
        "# Part III. Recommend (no clue how to do it yet)"
      ]
    },
    {
      "cell_type": "code",
      "metadata": {
        "id": "t4nDe_SWYcRO"
      },
      "source": [
        "# time_metric\r\n",
        "# quality_metric"
      ],
      "execution_count": null,
      "outputs": []
    },
    {
      "cell_type": "code",
      "metadata": {
        "id": "Bu7cXYinYVo2"
      },
      "source": [
        "# Tensor 1: Tucker result metrics\r\n",
        "\r\n",
        "# Tensor 1: HOSVD result metrics\r\n",
        "\r\n",
        "# Tensor 1: Tensor train result metrics"
      ],
      "execution_count": null,
      "outputs": []
    },
    {
      "cell_type": "code",
      "metadata": {
        "id": "AyhNxha0YrDu"
      },
      "source": [
        "# Tensor 2: Tucker result metrics\r\n",
        "\r\n",
        "# Tensor 2: HOSVD result metrics\r\n",
        "\r\n",
        "# Tensor 2: Tensor train result metrics"
      ],
      "execution_count": null,
      "outputs": []
    },
    {
      "cell_type": "markdown",
      "metadata": {
        "id": "efBzLPmxYvUu"
      },
      "source": [
        "# Part IV. Visuals"
      ]
    },
    {
      "cell_type": "code",
      "metadata": {
        "id": "U6SMQGBVZAXV"
      },
      "source": [
        "# performance plot: Tucker vs HOSVD vs Tensor Train"
      ],
      "execution_count": null,
      "outputs": []
    },
    {
      "cell_type": "code",
      "metadata": {
        "id": "hfqjkWtUZGJu"
      },
      "source": [
        "# quality plot: \"Tensor 1: HOSVD\" vs \"Tensor 1: Tucker\" vs \"Tensor 1: TT\" vs \"Tensor 2: HOSVD\" vs \"Tensor 2: Tucker\" vs \"Tensor 2: TT\""
      ],
      "execution_count": null,
      "outputs": []
    }
  ]
}